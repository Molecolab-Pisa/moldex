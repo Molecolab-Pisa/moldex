{
 "cells": [
  {
   "cell_type": "code",
   "execution_count": 1,
   "id": "a225f42d",
   "metadata": {},
   "outputs": [],
   "source": [
    "%load_ext autoreload\n",
    "%autoreload 2"
   ]
  },
  {
   "cell_type": "code",
   "execution_count": 2,
   "id": "b415b556",
   "metadata": {},
   "outputs": [],
   "source": [
    "import pytraj as pt\n",
    "\n",
    "import jax.numpy as jnp\n",
    "\n",
    "from moldex.descriptors import MMElectrostaticPotential\n",
    "from moldex.pytraj import data_for_elecpot"
   ]
  },
  {
   "cell_type": "markdown",
   "id": "01df83df",
   "metadata": {},
   "source": [
    "We load a trajectory using pytraj.\n",
    "\n",
    "We do not load it in memory in order to mimic a real case scenario."
   ]
  },
  {
   "cell_type": "code",
   "execution_count": 3,
   "id": "cc209157",
   "metadata": {},
   "outputs": [
    {
     "data": {
      "text/plain": [
       "pytraj.TrajectoryIterator, 10 frames: \n",
       "Size: 0.005856 (GB)\n",
       "<Topology: 26201 atoms, 4345 residues, 4345 mols, PBC with box type = octahedral>\n",
       "           "
      ]
     },
     "execution_count": 3,
     "metadata": {},
     "output_type": "execute_result"
    }
   ],
   "source": [
    "traj = pt.iterload('data/cla_meoh.nc', top='data/cla_meoh.parm7')\n",
    "\n",
    "traj"
   ]
  },
  {
   "cell_type": "markdown",
   "id": "fcb30ad1",
   "metadata": {},
   "source": [
    "In order to instantiate the `MMElectrostaticPotential` class we need several ingredients: the indices of the atoms in the QM and MM parts, the charges of the MM part, and an array that indicates the ID of the first atom of each residue (i.e., where the residue starts), with a final number equal to the number of MM atoms. \n",
    "\n",
    "This would be boring to write at hand, so we have written a helper to speed things up"
   ]
  },
  {
   "cell_type": "code",
   "execution_count": 4,
   "id": "ae115e4f",
   "metadata": {},
   "outputs": [
    {
     "name": "stderr",
     "output_type": "stream",
     "text": [
      "No GPU/TPU found, falling back to CPU. (Set TF_CPP_MIN_LOG_LEVEL=0 and rerun for more info.)\n"
     ]
    }
   ],
   "source": [
    "qm_indices, mm_indices, mm_charges, residues_array = data_for_elecpot(top=traj.top, qm_mask=':CLA')"
   ]
  },
  {
   "cell_type": "markdown",
   "id": "f840a72b",
   "metadata": {},
   "source": [
    "At this point we can instantiate the descriptor. We also need to provide a cutoff: MM *residues* within a cutoff distance from the QM part are included in the calculation of the descriptor."
   ]
  },
  {
   "cell_type": "code",
   "execution_count": 5,
   "id": "7edbf53e",
   "metadata": {},
   "outputs": [],
   "source": [
    "elecpot = MMElectrostaticPotential(\n",
    "    qm_indices=qm_indices,\n",
    "    mm_indices=mm_indices,\n",
    "    mm_charges=mm_charges,\n",
    "    residues_array=residues_array,\n",
    "    cutoff=10.0, # Angstrom\n",
    ")"
   ]
  },
  {
   "cell_type": "markdown",
   "id": "40687ebe",
   "metadata": {},
   "source": [
    "The descriptor is then computed along the trajectory as follows:"
   ]
  },
  {
   "cell_type": "code",
   "execution_count": 6,
   "id": "39ff227a",
   "metadata": {},
   "outputs": [],
   "source": [
    "desc = []\n",
    "for frame in pt.iterframe(traj):\n",
    "    p = elecpot.compute(frame.xyz)\n",
    "    desc.append(p)\n",
    "    \n",
    "desc = jnp.asarray(desc)"
   ]
  },
  {
   "cell_type": "markdown",
   "id": "e1ecad38-2aa5-41d5-b015-75d0193473fc",
   "metadata": {},
   "source": [
    "NOTE: this descriptor uses custom C code interfaced to JAX. We don't have (yet?) the corresponding CUDA code, so we can only run it on CPU. If you are running on CPU, wrap the call to the descriptor (`compute`) in this context manager to run that portion of code on CPU, e.g.:\n",
    "\n",
    "```python\n",
    "with jax.default_device(jax.devices(\"cpu\")[0]):\n",
    "    desc = []\n",
    "    for frame in pt.iterframe(traj):\n",
    "        p = elecpot.compute(frame.xyz)\n",
    "        desc.append(p)\n",
    "        \n",
    "    desc = jnp.asarray(desc)\n",
    "```"
   ]
  },
  {
   "cell_type": "code",
   "execution_count": 7,
   "id": "cf1967b9",
   "metadata": {},
   "outputs": [
    {
     "data": {
      "text/plain": [
       "Array([[-0.12089559, -0.03347979, -0.02932582, ..., -0.06089249,\n",
       "        -0.02984913, -0.04853807],\n",
       "       [-0.13022247, -0.03419513, -0.00462489, ...,  0.01664686,\n",
       "        -0.00511678,  0.01491921],\n",
       "       [-0.16212597,  0.00224037, -0.05976309, ..., -0.01647541,\n",
       "        -0.03034896, -0.01643274],\n",
       "       ...,\n",
       "       [-0.09233882,  0.02434437, -0.00114283, ...,  0.01889373,\n",
       "         0.00490391,  0.00378224],\n",
       "       [-0.16683061, -0.01922448, -0.00091998, ..., -0.02384871,\n",
       "        -0.02185269, -0.03518623],\n",
       "       [-0.13999091,  0.04262209,  0.00030935, ...,  0.01385698,\n",
       "        -0.0386499 , -0.01524869]], dtype=float32)"
      ]
     },
     "execution_count": 7,
     "metadata": {},
     "output_type": "execute_result"
    }
   ],
   "source": [
    "desc"
   ]
  },
  {
   "cell_type": "markdown",
   "id": "7069a3b1",
   "metadata": {},
   "source": [
    "You can visualize the cut in a PDB file using another helper.\n",
    "\n",
    "The ML and environment parts are distinguished by their residue name: ML and ENV, respectively."
   ]
  },
  {
   "cell_type": "code",
   "execution_count": 9,
   "id": "7cff0e1d",
   "metadata": {},
   "outputs": [],
   "source": [
    "from moldex.pytraj import visualize_cut_pdb\n",
    "\n",
    "visualize_cut_pdb(elecpot, frame.xyz, traj.top)"
   ]
  },
  {
   "cell_type": "code",
   "execution_count": 10,
   "id": "c539353d",
   "metadata": {},
   "outputs": [],
   "source": [
    "! rm ml_env_cut.pdb"
   ]
  },
  {
   "cell_type": "code",
   "execution_count": null,
   "id": "559ba021",
   "metadata": {},
   "outputs": [],
   "source": []
  }
 ],
 "metadata": {
  "kernelspec": {
   "display_name": "Python 3 (ipykernel)",
   "language": "python",
   "name": "python3"
  },
  "language_info": {
   "codemirror_mode": {
    "name": "ipython",
    "version": 3
   },
   "file_extension": ".py",
   "mimetype": "text/x-python",
   "name": "python",
   "nbconvert_exporter": "python",
   "pygments_lexer": "ipython3",
   "version": "3.10.13"
  }
 },
 "nbformat": 4,
 "nbformat_minor": 5
}
