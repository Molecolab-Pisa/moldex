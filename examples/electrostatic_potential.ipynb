{
 "cells": [
  {
   "cell_type": "code",
   "execution_count": 1,
   "id": "da37e7b5-5bf7-447f-b101-0635de243736",
   "metadata": {},
   "outputs": [],
   "source": [
    "%load_ext autoreload\n",
    "%autoreload 2"
   ]
  },
  {
   "cell_type": "markdown",
   "id": "c4beedba-2681-4e99-9bd3-ae094e9f8238",
   "metadata": {},
   "source": [
    "In this example, we use pytraj as MD software to load and iterate over the trajectory"
   ]
  },
  {
   "cell_type": "code",
   "execution_count": 2,
   "id": "26f5bfb4-e2e0-4cc3-9416-ccdab6f7833e",
   "metadata": {},
   "outputs": [],
   "source": [
    "import pytraj as pt\n",
    "\n",
    "import jax.numpy as jnp"
   ]
  },
  {
   "cell_type": "markdown",
   "id": "2d0724d3-763e-4272-93e3-6722e3f50bb2",
   "metadata": {},
   "source": [
    "We load a small trajectory (10 frames) of a chlorophyll *a* in methanol.\n",
    "\n",
    "We treat it as if we are not able to load it in memory, to simulate a more realistic practical scenario."
   ]
  },
  {
   "cell_type": "code",
   "execution_count": 3,
   "id": "60f0d56a-b959-42c0-9514-ab5a4b1bd806",
   "metadata": {},
   "outputs": [
    {
     "data": {
      "text/plain": [
       "pytraj.TrajectoryIterator, 10 frames: \n",
       "Size: 0.005856 (GB)\n",
       "<Topology: 26201 atoms, 4345 residues, 4345 mols, PBC with box type = octahedral>\n",
       "           "
      ]
     },
     "execution_count": 3,
     "metadata": {},
     "output_type": "execute_result"
    }
   ],
   "source": [
    "traj = pt.iterload('data/cla_meoh.nc', top='data/cla_meoh.parm7')\n",
    "\n",
    "traj"
   ]
  },
  {
   "cell_type": "markdown",
   "id": "2a39ee63-5221-4f3a-bebd-06a11bf1d861",
   "metadata": {},
   "source": [
    "In order to simplify things, we take as QM part the whole chlorophyll *a*. \n",
    "\n",
    "In reality, you may want to exclude the tail from the QM part."
   ]
  },
  {
   "cell_type": "code",
   "execution_count": 4,
   "id": "21de805e-ef9a-414c-9be7-421e2ba990d4",
   "metadata": {},
   "outputs": [
    {
     "name": "stderr",
     "output_type": "stream",
     "text": [
      "No GPU/TPU found, falling back to CPU. (Set TF_CPP_MIN_LOG_LEVEL=0 and rerun for more info.)\n"
     ]
    }
   ],
   "source": [
    "qm_mask = ':CLA'\n",
    "mm_mask = '!' + qm_mask\n",
    "\n",
    "qm_indices = traj.top.select(qm_mask)\n",
    "mm_indices = traj.top.select(mm_mask)\n",
    "mm_charges = jnp.array(traj.top.charge[mm_indices])"
   ]
  },
  {
   "cell_type": "markdown",
   "id": "d74e6398-9f94-4b10-a2cc-baa7213ae395",
   "metadata": {},
   "source": [
    "The electrostatic potential class keeps all the MM residues whole, i.e., no MM residue is cut by the use of a cutoff.\n",
    "\n",
    "To do that, it needs an array that says the index of the first atom of each residue (i.e., where each residue starts), with the last element equal to the total number of MM atoms:"
   ]
  },
  {
   "cell_type": "code",
   "execution_count": 5,
   "id": "19cf069d-ba5b-4e33-8d05-9d1ab035e4e7",
   "metadata": {},
   "outputs": [
    {
     "data": {
      "text/plain": [
       "Array([    0,     6,    12, ..., 26052, 26058, 26064], dtype=int32)"
      ]
     },
     "execution_count": 5,
     "metadata": {},
     "output_type": "execute_result"
    }
   ],
   "source": [
    "def get_residues_array(top, mm_indices):                                                                                                         \n",
    "    num_mm = jnp.array([len(mm_indices)])                                                                            \n",
    "    _, indices = jnp.unique(                                                                                         \n",
    "        jnp.array([top.atom(i).resid for i in mm_indices]), return_index=True                                        \n",
    "    )                                                                                                                \n",
    "    residues_array = jnp.concatenate([indices, num_mm])                                                                                                                                                                          \n",
    "    return residues_array\n",
    "\n",
    "residues_array = get_residues_array(traj.top, mm_indices)\n",
    "\n",
    "residues_array"
   ]
  },
  {
   "cell_type": "markdown",
   "id": "921e1c39-148a-4b34-8d35-512f20d276a8",
   "metadata": {},
   "source": [
    "As doing this operation is a bit clunky, there is a helper that can be used to obtain all is necessary to instantiate a MMElectrostaticPotential descriptor:"
   ]
  },
  {
   "cell_type": "code",
<<<<<<< HEAD
   "execution_count": 28,
=======
   "execution_count": 6,
>>>>>>> e23d808... m
   "id": "52244c9f-c055-463f-b45c-8534079f01ad",
   "metadata": {},
   "outputs": [],
   "source": [
    "from moldex.pytraj import data_for_elecpot\n",
    "\n",
    "qm_indices, mm_indices, mm_charges, residues_array = data_for_elecpot(traj.top, qm_mask)"
   ]
  },
  {
   "cell_type": "markdown",
   "id": "6962eebc-ffce-4dcd-aa63-791cacc9ffb9",
   "metadata": {},
   "source": [
    "This function has some additional options, for getting charges from a database (a text file) instead than from a trajectory, and for turning off (i.e., not include in the potential calculation) some residues of the environment.\n",
    "\n",
    "At this point we can instantiate the potential. We also specify that we want to use a cutoff of $10$ Angstrom around the QM part."
   ]
  },
  {
   "cell_type": "code",
<<<<<<< HEAD
   "execution_count": 29,
=======
   "execution_count": 7,
>>>>>>> e23d808... m
   "id": "04e2246f-95e1-46ef-ac84-15b8dac77357",
   "metadata": {},
   "outputs": [],
   "source": [
    "from moldex.descriptors import MMElectrostaticPotential\n",
    "\n",
    "elecpot = MMElectrostaticPotential(qm_indices, mm_indices, mm_charges, residues_array, cutoff=10.0)"
   ]
  },
  {
   "cell_type": "markdown",
   "id": "93632307-487f-466a-8f4f-9181933a6b55",
   "metadata": {},
   "source": [
    "This class can be used to compute the potential along a trajectory, for example:"
   ]
  },
  {
   "cell_type": "code",
<<<<<<< HEAD
   "execution_count": 30,
=======
   "execution_count": 8,
>>>>>>> e23d808... m
   "id": "18eb150a-f9db-45c0-8c99-85e813f66beb",
   "metadata": {},
   "outputs": [],
   "source": [
    "potential = []\n",
    "for frame in pt.iterframe(traj):\n",
    "    p = elecpot.compute(frame.xyz)\n",
    "    potential.append(p)\n",
    "\n",
    "potential = jnp.array(potential)"
   ]
  },
  {
   "cell_type": "code",
<<<<<<< HEAD
   "execution_count": 31,
=======
   "execution_count": 9,
>>>>>>> e23d808... m
   "id": "b4b7e6aa-9d41-49a6-9ce0-d4bb81e81a59",
   "metadata": {},
   "outputs": [
    {
     "data": {
      "text/plain": [
       "Array([[-0.12089559, -0.03347979, -0.02932582, ..., -0.06089249,\n",
       "        -0.02984913, -0.04853807],\n",
       "       [-0.13022247, -0.03419513, -0.00462489, ...,  0.01664686,\n",
       "        -0.00511678,  0.01491921],\n",
       "       [-0.16212597,  0.00224037, -0.05976309, ..., -0.01647541,\n",
       "        -0.03034896, -0.01643274],\n",
       "       ...,\n",
       "       [-0.09233882,  0.02434437, -0.00114283, ...,  0.01889373,\n",
       "         0.00490391,  0.00378224],\n",
       "       [-0.16683061, -0.01922448, -0.00091998, ..., -0.02384871,\n",
       "        -0.02185269, -0.03518623],\n",
       "       [-0.13999091,  0.04262209,  0.00030935, ...,  0.01385698,\n",
       "        -0.0386499 , -0.01524869]], dtype=float32)"
      ]
     },
<<<<<<< HEAD
     "execution_count": 31,
=======
     "execution_count": 9,
>>>>>>> e23d808... m
     "metadata": {},
     "output_type": "execute_result"
    }
   ],
   "source": [
    "potential"
   ]
  },
  {
   "cell_type": "markdown",
   "id": "f1bdf2bd-acda-463f-8f3a-15b4ad7f5647",
   "metadata": {},
   "source": [
    "The shape of the potential is (n_frames, n_qm_atoms)"
   ]
  },
  {
   "cell_type": "code",
<<<<<<< HEAD
   "execution_count": 32,
=======
   "execution_count": 10,
>>>>>>> e23d808... m
   "id": "8e5d9c2c-6a21-47a5-9270-c456a0dd0001",
   "metadata": {},
   "outputs": [
    {
     "data": {
      "text/plain": [
       "(10, 137)"
      ]
     },
<<<<<<< HEAD
     "execution_count": 32,
=======
     "execution_count": 10,
>>>>>>> e23d808... m
     "metadata": {},
     "output_type": "execute_result"
    }
   ],
   "source": [
    "potential.shape"
   ]
  },
  {
   "cell_type": "code",
   "execution_count": null,
   "id": "0e76aeb0-aa00-40cd-b35f-e76c83c8c040",
   "metadata": {},
   "outputs": [],
   "source": []
  }
 ],
 "metadata": {
  "kernelspec": {
   "display_name": "Python 3 (ipykernel)",
   "language": "python",
   "name": "python3"
  },
  "language_info": {
   "codemirror_mode": {
    "name": "ipython",
    "version": 3
   },
   "file_extension": ".py",
   "mimetype": "text/x-python",
   "name": "python",
   "nbconvert_exporter": "python",
   "pygments_lexer": "ipython3",
   "version": "3.10.12"
  }
 },
 "nbformat": 4,
 "nbformat_minor": 5
}
