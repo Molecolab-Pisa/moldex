{
 "cells": [
  {
   "cell_type": "code",
   "execution_count": 1,
   "id": "a92cde94",
   "metadata": {},
   "outputs": [],
   "source": [
    "%load_ext autoreload\n",
    "%autoreload 2"
   ]
  },
  {
   "cell_type": "code",
   "execution_count": 4,
   "id": "6efd3c01",
   "metadata": {},
   "outputs": [],
   "source": [
    "import jax\n",
    "import jax.numpy as jnp\n",
    "\n",
    "from moldex.descriptors import re_matrix, batched_re_matrix\n",
    "from moldex.mdtraj import bond_indices_from_top\n",
    "\n",
    "# we use mdtraj here to load the trajectory\n",
    "import mdtraj as md"
   ]
  },
  {
   "cell_type": "code",
   "execution_count": 5,
   "id": "d7b17251",
   "metadata": {},
   "outputs": [],
   "source": [
    "traj = md.load('data/cla.nc', top='data/cla.prmtop')"
   ]
  },
  {
   "cell_type": "code",
   "execution_count": 6,
   "id": "c07d3898",
   "metadata": {},
   "outputs": [
    {
     "name": "stderr",
     "output_type": "stream",
     "text": [
      "No GPU/TPU found, falling back to CPU. (Set TF_CPP_MIN_LOG_LEVEL=0 and rerun for more info.)\n"
     ]
    }
   ],
   "source": [
    "indices, bond_names = bond_indices_from_top(traj.top)"
   ]
  },
  {
   "cell_type": "code",
   "execution_count": 7,
   "id": "6c909db2",
   "metadata": {},
   "outputs": [],
   "source": [
    "coords = jnp.array(traj.xyz)"
   ]
  },
  {
   "cell_type": "code",
   "execution_count": 8,
   "id": "43f7c160",
   "metadata": {},
   "outputs": [
    {
     "data": {
      "text/plain": [
       "Array([1.0216061 , 0.99975616, 1.008654  , 0.9544634 , 0.97621685,\n",
       "       0.99081194, 1.0341021 , 1.0150027 , 0.9875117 , 0.9946092 ,\n",
       "       0.9358092 , 1.0027026 , 1.0043268 , 0.9907497 , 0.9957021 ,\n",
       "       1.0351065 , 0.95415306, 0.99744385, 0.9996572 , 0.994055  ,\n",
       "       1.0081117 , 1.0404235 , 1.0354193 , 1.000646  , 0.999973  ,\n",
       "       1.0000033 , 1.0000033 , 0.9999939 , 0.92029387, 1.0000033 ,\n",
       "       1.0000046 , 1.0237103 , 1.039378  , 0.9490691 , 0.99293023,\n",
       "       1.0117513 , 0.97211826, 0.9718572 , 1.0000037 , 0.9999928 ,\n",
       "       1.0000075 , 1.0105664 , 1.0000075 , 1.0000004 , 1.0000029 ,\n",
       "       0.9955072 , 0.9553912 , 0.9391475 , 1.011831  , 1.0014951 ,\n",
       "       0.968264  , 0.9707567 , 0.99999726, 1.000002  , 1.0000017 ,\n",
       "       1.0078245 , 1.0000068 , 1.0000111 , 1.0000029 , 1.0000043 ,\n",
       "       1.0000099 , 1.0041109 , 1.0177194 , 1.0334166 , 0.99943346,\n",
       "       0.99649835, 0.98808366, 0.9625573 , 0.9999924 , 1.0000058 ,\n",
       "       1.0000026 , 1.0300363 , 0.9641044 , 1.0199834 , 1.0000039 ,\n",
       "       0.98417264, 0.99282277, 1.0224061 , 1.0000091 , 0.99999774,\n",
       "       0.9999927 ], dtype=float32)"
      ]
     },
     "execution_count": 8,
     "metadata": {},
     "output_type": "execute_result"
    }
   ],
   "source": [
    "# compute the RE matrix w.r.t. the first frame, for the second frame\n",
    "re_matrix(coords[1], coords[0], indices)"
   ]
  },
  {
   "cell_type": "code",
   "execution_count": 9,
   "id": "c142b582",
   "metadata": {},
   "outputs": [
    {
     "data": {
      "text/plain": [
       "Array([[1.        , 1.        , 1.        , ..., 1.        , 1.        ,\n",
       "        1.        ],\n",
       "       [1.0216061 , 0.99975616, 1.008654  , ..., 1.0000091 , 0.99999774,\n",
       "        0.9999927 ],\n",
       "       [0.9700271 , 0.9842845 , 1.0246861 , ..., 0.9999963 , 0.9999946 ,\n",
       "        1.0000056 ],\n",
       "       ...,\n",
       "       [0.96465945, 0.98621297, 1.0358901 , ..., 0.9999941 , 1.0000026 ,\n",
       "        1.000002  ],\n",
       "       [1.0136793 , 0.9917589 , 1.0064753 , ..., 0.99999607, 0.9999918 ,\n",
       "        1.0000027 ],\n",
       "       [0.95508546, 1.0111258 , 1.0524362 , ..., 0.99999756, 1.000001  ,\n",
       "        1.0000057 ]], dtype=float32)"
      ]
     },
     "execution_count": 9,
     "metadata": {},
     "output_type": "execute_result"
    }
   ],
   "source": [
    "# compute the RE matrix for a trajectory\n",
    "batched_re_matrix(coords, coords[0], indices)"
   ]
  },
  {
   "cell_type": "code",
   "execution_count": 10,
   "id": "453aadcb",
   "metadata": {},
   "outputs": [
    {
     "name": "stdout",
     "output_type": "stream",
     "text": [
      "NaN in jac: False\n",
      "jac.shape: (81, 73, 3)\n"
     ]
    }
   ],
   "source": [
    "# derivatives work\n",
    "try:\n",
    "    jac = jax.jacrev(re_matrix)(coords[1], coords[0], indices)\n",
    "    print('NaN in jac:', jnp.any(jnp.isnan(jac)))\n",
    "    print('jac.shape:', jac.shape)\n",
    "except Exception:\n",
    "    print('not reverse-mode differentiable')"
   ]
  },
  {
   "cell_type": "code",
   "execution_count": 11,
   "id": "46579476",
   "metadata": {},
   "outputs": [
    {
     "name": "stdout",
     "output_type": "stream",
     "text": [
      "NaN in jac: False\n",
      "jac.shape: (81, 73, 3)\n"
     ]
    }
   ],
   "source": [
    "# derivatives work\n",
    "try:\n",
    "    jac = jax.jacfwd(re_matrix)(coords[1], coords[0], indices)\n",
    "    print('NaN in jac:', jnp.any(jnp.isnan(jac)))\n",
    "    print('jac.shape:', jac.shape)\n",
    "except Exception:\n",
    "    print('not forward-mode differentiable')"
   ]
  },
  {
   "cell_type": "code",
   "execution_count": null,
   "id": "8ad6355a",
   "metadata": {},
   "outputs": [],
   "source": []
  }
 ],
 "metadata": {
  "kernelspec": {
   "display_name": "Python 3 (ipykernel)",
   "language": "python",
   "name": "python3"
  },
  "language_info": {
   "codemirror_mode": {
    "name": "ipython",
    "version": 3
   },
   "file_extension": ".py",
   "mimetype": "text/x-python",
   "name": "python",
   "nbconvert_exporter": "python",
   "pygments_lexer": "ipython3",
   "version": "3.10.12"
  }
 },
 "nbformat": 4,
 "nbformat_minor": 5
}
