{
 "cells": [
  {
   "cell_type": "code",
   "execution_count": 1,
   "id": "ea685416-4121-4d63-9b5c-14da6b875203",
   "metadata": {},
   "outputs": [],
   "source": [
    "%load_ext autoreload\n",
    "%autoreload 2"
   ]
  },
  {
   "cell_type": "code",
   "execution_count": 2,
   "id": "3cc3897b-b209-41f7-aadd-9929eaaefbdd",
   "metadata": {},
   "outputs": [],
   "source": [
    "import jax\n",
    "import jax.numpy as jnp\n",
    "\n",
    "from moldex.descriptors import dihe_matrix, batched_dihe_matrix\n",
    "from moldex.mdtraj import dihe_indices_from_top\n",
    "\n",
    "# we use mdtraj here to load the trajectory\n",
    "import mdtraj as md"
   ]
  },
  {
   "cell_type": "code",
   "execution_count": 3,
   "id": "89caa686-10d3-4ab6-af03-a860b97d16fa",
   "metadata": {},
   "outputs": [],
   "source": [
    "traj = md.load('data/cla.nc', top='data/cla.prmtop')"
   ]
  },
  {
   "cell_type": "code",
   "execution_count": 5,
   "id": "c84fa32e-16ee-4ae4-b4c0-901e9fb88e7b",
   "metadata": {},
   "outputs": [
    {
     "name": "stderr",
     "output_type": "stream",
     "text": [
      "No GPU/TPU found, falling back to CPU. (Set TF_CPP_MIN_LOG_LEVEL=0 and rerun for more info.)\n"
     ]
    },
    {
     "name": "stdout",
     "output_type": "stream",
     "text": [
      "(231, 4)\n"
     ]
    }
   ],
   "source": [
    "# utility function that extracts the list of dihedrals from a mdtraj trajectory\n",
    "indices = dihe_indices_from_top(traj.top)\n",
    "\n",
    "print(indices.shape)"
   ]
  },
  {
   "cell_type": "code",
   "execution_count": 6,
   "id": "db9e908a-0fe9-4977-b178-afceb7f438f8",
   "metadata": {},
   "outputs": [
    {
     "name": "stdout",
     "output_type": "stream",
     "text": [
      "(240, 73, 3)\n"
     ]
    }
   ],
   "source": [
    "# get the coordinates\n",
    "coords = jnp.array(traj.xyz)\n",
    "\n",
    "print(coords.shape)"
   ]
  },
  {
   "cell_type": "code",
   "execution_count": 7,
   "id": "a05f0622-2c00-400c-a7ea-e981e9912766",
   "metadata": {},
   "outputs": [
    {
     "data": {
      "text/plain": [
       "Array([-3.1000271e+00,  4.9931936e-02, -3.5542760e-02,  3.1088681e+00,\n",
       "       -5.1245540e-01,  2.6751435e+00, -2.3126724e+00,  1.3517982e+00,\n",
       "        4.8054699e-03, -3.1287675e+00,  3.1406932e+00,  2.2443105e-02,\n",
       "       -2.0993857e-02,  3.1324239e+00, -2.4256693e-02,  3.1222885e+00,\n",
       "       -3.1308036e+00,  1.3546157e-02, -7.3527605e-03, -3.1159475e+00,\n",
       "       -2.6732388e+00,  4.8372468e-01, -7.2764283e-01,  2.6245043e+00,\n",
       "        2.2925136e-03, -3.1349676e+00, -5.1495638e-03,  3.1330192e+00,\n",
       "       -3.1137078e+00,  6.2137842e-02, -4.3589056e-02,  3.1218448e+00,\n",
       "       -3.7106520e-03, -3.1316640e+00, -3.1780437e-02,  3.1314421e+00,\n",
       "        1.2867751e-02, -3.1157668e+00, -2.0133192e-02,  3.1278589e+00,\n",
       "        2.3542924e-02, -3.1325624e+00, -6.5250153e-04,  3.1346073e+00,\n",
       "       -3.1053214e+00,  2.1344382e-02, -3.1376095e+00,  2.7029073e-01,\n",
       "       -4.1364488e-01,  3.1157587e+00, -3.0848322e+00,  4.4649044e-01,\n",
       "       -1.7812593e-01,  3.1309438e+00, -1.7040938e-02,  1.5709065e-02,\n",
       "       -2.8203788e+00,  2.8019748e+00,  3.1338105e+00,  3.1380637e+00,\n",
       "        1.4582996e-02, -6.2355842e-03,  3.1329920e+00, -3.0052443e+00,\n",
       "        1.0004401e-01, -9.4264764e-03,  3.1269267e+00,  2.2243185e-02,\n",
       "       -3.1246741e+00, -3.1325314e+00,  3.8493115e-03,  3.1219535e+00,\n",
       "       -3.0965471e+00,  5.0868458e-01, -1.8755494e-01, -3.1376388e+00,\n",
       "       -1.2723940e-03, -3.1408515e+00, -3.1379552e+00, -8.6203404e-04,\n",
       "       -7.8427019e-03,  3.1379173e+00,  1.3191520e-02,  3.1379488e+00,\n",
       "        3.1310973e+00, -6.3200938e-03,  3.1380076e+00, -3.1389492e+00,\n",
       "        5.9165405e-03, -3.1257951e+00, -1.0637814e-03,  3.1205132e+00,\n",
       "       -3.1237009e+00,  1.6207797e-02, -8.2766573e-04,  3.1152387e+00,\n",
       "        1.2909142e-02,  3.1389256e+00, -3.1183209e+00, -2.1606481e-03,\n",
       "        3.1290796e+00, -3.1255255e+00,  2.3339367e-02,  3.1343977e+00,\n",
       "       -2.2922840e-02,  3.1395106e+00,  3.1385732e+00, -5.4946709e-03,\n",
       "       -1.3903631e-02, -1.4730151e-02,  4.0619139e-02, -2.7981441e+00,\n",
       "        2.9257009e+00,  3.9705195e-02, -2.6809564e+00,  2.9416902e+00,\n",
       "       -4.6189982e-02,  2.6348855e+00, -2.8707504e+00,  2.1875665e-01,\n",
       "       -5.1118058e-01,  3.1266961e+00,  2.7898607e+00, -2.9128520e+00,\n",
       "        2.7535981e-02, -3.6766315e-01,  3.0932271e+00,  1.9605517e-01,\n",
       "       -2.9663939e+00, -2.7390203e-02,  2.9132733e+00, -3.0542536e+00,\n",
       "        8.9742404e-01, -1.0971053e-01,  3.1389527e+00,  1.8259585e-01,\n",
       "       -2.7806354e-01, -1.1451974e-01, -3.0961382e+00,  6.1902440e-01,\n",
       "        6.3070649e-01, -1.7219228e-01, -3.1067524e+00,  5.0713299e-03,\n",
       "       -7.0055947e-03, -1.1650152e-03,  3.1359260e+00,  6.5756636e-03,\n",
       "       -3.1317365e+00, -3.1463474e-03,  3.1349504e+00, -3.4314193e-02,\n",
       "       -2.9451377e+00,  2.8365812e+00, -3.1395612e+00, -1.4601172e-03,\n",
       "        3.1004775e+00,  1.8118463e-01, -3.3632123e-01,  8.8526085e-02,\n",
       "       -3.0305436e+00, -3.0586050e+00,  1.0472546e-01, -1.4363787e-03,\n",
       "       -3.1270700e+00,  3.1258385e+00,  2.1980524e-04, -7.2960141e-03,\n",
       "        8.6488817e-03,  3.4733645e-03, -3.1397803e+00, -6.4726421e-03,\n",
       "       -3.1409173e+00,  1.8127913e-03,  3.1364110e+00,  3.4439836e-02,\n",
       "       -2.9044039e+00,  2.8403239e+00, -3.1382661e+00, -3.6668880e-03,\n",
       "       -3.1091950e+00,  2.3057933e-01, -3.1110319e-01,  1.7002177e+00,\n",
       "       -6.1474729e-02, -3.0339136e+00, -1.8401674e+00,  3.0694759e+00,\n",
       "        9.4754055e-02,  1.6454734e-01, -6.7496949e-01,  3.0947769e+00,\n",
       "        3.1097693e+00,  1.4990507e-01, -5.0780720e-01, -7.8482014e-01,\n",
       "        3.0641696e+00,  1.1601569e-01,  1.0654884e-02, -1.4744794e-03,\n",
       "       -1.7110985e-02,  3.1219723e+00, -8.8169612e-03, -3.1323237e+00,\n",
       "        1.4600132e-02,  3.1260169e+00, -2.8747938e+00,  2.7602940e+00,\n",
       "        2.4303982e-02, -3.1246080e+00, -1.3196144e-02,  2.5524566e-01,\n",
       "       -4.0317583e-01, -3.1202588e+00,  2.9751191e-02, -3.1143682e+00,\n",
       "        3.1399448e+00, -4.0797354e-03,  2.8924494e+00, -2.8754051e+00,\n",
       "       -2.5784314e-01,  2.5708339e-01,  2.6355696e+00, -9.1274685e-01,\n",
       "       -1.9585585e-02,  3.0981240e+00, -3.0960419e+00,  2.6597783e-02,\n",
       "        3.1353030e+00,  2.0490567e-01, -2.5971714e-01], dtype=float32)"
      ]
     },
     "execution_count": 7,
     "metadata": {},
     "output_type": "execute_result"
    }
   ],
   "source": [
    " # compute the dihedral matrix for a single frame\n",
    "dihe_matrix(coords[0], indices)"
   ]
  },
  {
   "cell_type": "code",
   "execution_count": 8,
   "id": "f1a5496e-b5e5-4e48-a381-ba99038a47c6",
   "metadata": {},
   "outputs": [
    {
     "data": {
      "text/plain": [
       "Array([[-3.1000271e+00,  4.9931936e-02, -3.5542760e-02, ...,\n",
       "         3.1353030e+00,  2.0490567e-01, -2.5971714e-01],\n",
       "       [ 3.1396198e+00,  1.6139045e-04,  1.4311945e-02, ...,\n",
       "        -3.6459407e-01,  3.1013265e+00,  1.8986583e-01],\n",
       "       [-3.0829978e+00,  2.1339286e-02, -5.0531890e-02, ...,\n",
       "        -1.8132296e-01,  3.1244881e+00,  2.3630585e-01],\n",
       "       ...,\n",
       "       [-3.1210308e+00,  4.8143055e-02, -6.3534386e-02, ...,\n",
       "         1.6997379e-01, -3.4190464e-01,  3.1237035e+00],\n",
       "       [-3.1250246e+00,  3.4486275e-02, -3.4065552e-02, ...,\n",
       "         3.1036062e+00,  2.2845075e-01, -3.9643139e-01],\n",
       "       [-3.1001079e+00,  2.5410874e-02, -1.8174116e-02, ...,\n",
       "         2.2556624e-01, -3.6422220e-01,  3.1413410e+00]], dtype=float32)"
      ]
     },
     "execution_count": 8,
     "metadata": {},
     "output_type": "execute_result"
    }
   ],
   "source": [
    "# compute the dihedral matrix for a trajectory\n",
    "batched_dihe_matrix(coords, indices)"
   ]
  },
  {
   "cell_type": "code",
   "execution_count": 9,
   "id": "fc99a108-d5cb-444e-a603-98898cbffe3e",
   "metadata": {},
   "outputs": [
    {
     "name": "stdout",
     "output_type": "stream",
     "text": [
      "NaN in jac: False\n",
      "jac.shape: (231, 73, 3)\n"
     ]
    }
   ],
   "source": [
    "# derivatives work\n",
    "try:\n",
    "    jac = jax.jacrev(dihe_matrix)(coords[0], indices)\n",
    "    print('NaN in jac:', jnp.any(jnp.isnan(jac)))\n",
    "    print('jac.shape:', jac.shape)\n",
    "except Exception:\n",
    "    print('not reverse-mode differentiable')"
   ]
  },
  {
   "cell_type": "code",
   "execution_count": 10,
   "id": "dcb260a7-4061-41bc-8025-7f5ab161ed43",
   "metadata": {},
   "outputs": [
    {
     "name": "stdout",
     "output_type": "stream",
     "text": [
      "NaN in jac: False\n",
      "jac.shape: (231, 73, 3)\n"
     ]
    }
   ],
   "source": [
    "# derivatives work\n",
    "try:\n",
    "    jac = jax.jacfwd(dihe_matrix)(coords[0], indices)\n",
    "    print('NaN in jac:', jnp.any(jnp.isnan(jac)))\n",
    "    print('jac.shape:', jac.shape)\n",
    "except Exception:\n",
    "    print('not forward-mode differentiable')"
   ]
  },
  {
   "cell_type": "code",
   "execution_count": null,
   "id": "e976007f-264e-4566-b7c9-9731f917a245",
   "metadata": {},
   "outputs": [],
   "source": []
  }
 ],
 "metadata": {
  "kernelspec": {
   "display_name": "Python 3 (ipykernel)",
   "language": "python",
   "name": "python3"
  },
  "language_info": {
   "codemirror_mode": {
    "name": "ipython",
    "version": 3
   },
   "file_extension": ".py",
   "mimetype": "text/x-python",
   "name": "python",
   "nbconvert_exporter": "python",
   "pygments_lexer": "ipython3",
   "version": "3.10.12"
  }
 },
 "nbformat": 4,
 "nbformat_minor": 5
}
