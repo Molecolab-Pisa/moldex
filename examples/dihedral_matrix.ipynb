{
 "cells": [
  {
   "cell_type": "code",
   "execution_count": 2,
   "id": "ea685416-4121-4d63-9b5c-14da6b875203",
   "metadata": {},
   "outputs": [
    {
     "name": "stdout",
     "output_type": "stream",
     "text": [
      "The autoreload extension is already loaded. To reload it, use:\n",
      "  %reload_ext autoreload\n"
     ]
    }
   ],
   "source": [
    "%load_ext autoreload\n",
    "%autoreload 2"
   ]
  },
  {
   "cell_type": "code",
   "execution_count": 3,
   "id": "3cc3897b-b209-41f7-aadd-9929eaaefbdd",
   "metadata": {},
   "outputs": [],
   "source": [
    "import jax\n",
    "import jax.numpy as jnp\n",
    "\n",
    "from moldex.descriptors import dihe_matrix, batched_dihe_matrix\n",
    "from moldex.mdtraj import dihe_indices_from_traj\n",
    "\n",
    "# we use mdtraj here to load the trajectory, everything else is ok\n",
    "# note that pytraj is stuck at python 3.7, while JAX has dropped\n",
    "# support for python 3.7, so they are not compatible anymore\n",
    "import mdtraj as md"
   ]
  },
  {
   "cell_type": "code",
   "execution_count": 5,
   "id": "89caa686-10d3-4ab6-af03-a860b97d16fa",
   "metadata": {},
   "outputs": [],
   "source": [
    "traj = md.load('data/cla.nc', top='data/cla.prmtop')"
   ]
  },
  {
   "cell_type": "code",
   "execution_count": 7,
   "id": "c84fa32e-16ee-4ae4-b4c0-901e9fb88e7b",
   "metadata": {},
   "outputs": [
    {
     "name": "stdout",
     "output_type": "stream",
     "text": [
      "(231, 4)\n"
     ]
    }
   ],
   "source": [
    "# utility function that extracts the list of dihedrals from a mdtraj trajectory\n",
    "indices = dihe_indices_from_traj(traj)\n",
    "\n",
    "print(indices.shape)"
   ]
  },
  {
   "cell_type": "code",
   "execution_count": 8,
   "id": "db9e908a-0fe9-4977-b178-afceb7f438f8",
   "metadata": {},
   "outputs": [
    {
     "name": "stdout",
     "output_type": "stream",
     "text": [
      "(240, 73, 3)\n"
     ]
    }
   ],
   "source": [
    "# get the coordinates\n",
    "coords = jnp.array(traj.xyz)\n",
    "\n",
    "print(coords.shape)"
   ]
  },
  {
   "cell_type": "code",
   "execution_count": 9,
   "id": "a05f0622-2c00-400c-a7ea-e981e9912766",
   "metadata": {},
   "outputs": [
    {
     "data": {
      "text/plain": [
       "Array([ 3.13530302e+00,  2.04905674e-01, -2.59717137e-01, -1.95855908e-02,\n",
       "        3.09812403e+00,  2.57083356e-01, -2.87540507e+00, -4.13644850e-01,\n",
       "        2.80197477e+00,  2.55245596e-01, -2.87479377e+00, -4.03175890e-01,\n",
       "        2.76029396e+00, -3.12025881e+00,  2.43039820e-02,  3.10976934e+00,\n",
       "       -7.84820139e-01,  1.64547339e-01,  1.49905071e-01,  3.06416965e+00,\n",
       "       -6.74969494e-01, -5.07807195e-01,  1.16015688e-01,  3.09477687e+00,\n",
       "        3.06947589e+00, -6.14747293e-02,  9.47540477e-02, -3.03391361e+00,\n",
       "       -3.10919499e+00,  3.44398357e-02,  2.30579361e-01, -2.90440392e+00,\n",
       "       -3.11103195e-01,  2.84032393e+00,  3.12583852e+00, -1.43637869e-03,\n",
       "        2.19805239e-04, -3.12706995e+00,  1.04725465e-01, -3.03054357e+00,\n",
       "        3.10047746e+00, -3.43141928e-02,  1.81184605e-01, -2.94513774e+00,\n",
       "       -3.36321175e-01,  2.83658123e+00,  3.09322715e+00,  1.82595849e-01,\n",
       "       -5.11180580e-01,  1.96055174e-01, -2.78063536e-01,  3.12669611e+00,\n",
       "       -1.14519723e-01,  6.30706489e-01, -3.05425358e+00, -3.09613824e+00,\n",
       "       -1.72192276e-01,  8.97424042e-01,  6.19024515e-01, -3.10675240e+00,\n",
       "       -1.09710529e-01,  2.65977830e-02, -3.09604192e+00,  2.63556957e+00,\n",
       "       -3.00524426e+00, -9.12746847e-01,  1.00044012e-01, -2.57843107e-01,\n",
       "        2.89244938e+00,  2.70290792e-01, -2.82037854e+00,  3.13299203e+00,\n",
       "        3.13994479e+00,  2.97511909e-02, -4.07974003e-03, -3.11436820e+00,\n",
       "       -6.23557856e-03, -3.13760948e+00,  1.57090649e-02, -3.13232374e+00,\n",
       "        1.45829981e-02, -3.12460804e+00,  1.46001317e-02, -8.81695654e-03,\n",
       "        3.13806367e+00, -1.47447945e-03,  3.12785888e+00,  3.13460732e+00,\n",
       "       -1.70409363e-02, -1.31961443e-02,  3.12601686e+00, -1.71109848e-02,\n",
       "        3.13857317e+00,  3.12197232e+00, -5.49467094e-03,  1.06548844e-02,\n",
       "       -3.11576676e+00,  3.13892555e+00, -2.29228400e-02,  3.13951063e+00,\n",
       "        3.13381052e+00,  1.29091423e-02,  3.13439775e+00,  1.28677506e-02,\n",
       "       -7.27642715e-01,  3.14069319e+00, -4.35890593e-02, -6.52501534e-04,\n",
       "        3.13094378e+00, -2.01331917e-02,  2.62450457e+00,  2.24431045e-02,\n",
       "        3.12184477e+00, -1.84016764e+00,  1.70021772e+00, -3.14091730e+00,\n",
       "        2.33393777e-02, -3.13826609e+00,  1.81279134e-03, -6.47263508e-03,\n",
       "       -3.12552547e+00,  8.64888169e-03,  3.13144207e+00,  3.11523867e+00,\n",
       "       -2.16064346e-03, -3.66688799e-03,  3.13641095e+00,  3.47336452e-03,\n",
       "       -3.12370086e+00, -3.13978028e+00,  1.62077975e-02, -7.29601411e-03,\n",
       "       -3.13166404e+00,  3.13794875e+00, -1.06378144e-03,  3.12907958e+00,\n",
       "        3.12051320e+00,  1.31915202e-02, -3.12579513e+00, -3.71065200e-03,\n",
       "       -7.35275308e-03, -2.31267262e+00, -3.11370778e+00, -8.27667653e-04,\n",
       "       -3.11832094e+00, -3.17804366e-02, -3.11594748e+00,  1.35179806e+00,\n",
       "        6.21378422e-02, -3.05860496e+00,  8.85260850e-02, -3.13173652e+00,\n",
       "        5.91654144e-03, -3.13956118e+00, -3.14634736e-03,  6.57566451e-03,\n",
       "       -3.13894916e+00, -7.00559467e-03,  3.13301921e+00,  3.13791728e+00,\n",
       "       -6.32010447e-03, -1.46011717e-03,  3.13495040e+00, -1.16501516e-03,\n",
       "       -3.13795519e+00,  3.13592601e+00, -8.62034038e-04,  5.07132988e-03,\n",
       "       -3.13496757e+00, -3.12467408e+00, -1.27239397e-03,  3.13800764e+00,\n",
       "       -3.14085150e+00,  2.22431850e-02, -3.13763881e+00,  2.29251361e-03,\n",
       "       -3.55427563e-02, -2.67323875e+00, -3.13080359e+00, -7.84269162e-03,\n",
       "        3.13109732e+00, -5.14956377e-03,  3.10886812e+00,  4.83724684e-01,\n",
       "        1.35461567e-02, -3.67663145e-01,  3.13895273e+00,  2.18756646e-01,\n",
       "       -2.68095636e+00,  5.08684576e-01,  2.94169021e+00, -1.87554941e-01,\n",
       "        2.78986073e+00, -2.96639395e+00, -4.61899824e-02,  3.97051908e-02,\n",
       "       -3.09654713e+00, -1.47301508e-02,  3.12228847e+00,  3.12692666e+00,\n",
       "        3.84931429e-03, -2.91285205e+00, -2.73902025e-02,  2.63488555e+00,\n",
       "        2.75359806e-02,  2.91327333e+00, -2.87075043e+00,  4.06191386e-02,\n",
       "       -3.08483219e+00, -2.79814410e+00,  4.46490437e-01,  2.92570090e+00,\n",
       "       -1.78125933e-01, -1.39036309e-02,  3.13242388e+00, -3.13256240e+00,\n",
       "        2.13443823e-02,  3.12195349e+00,  3.11575866e+00,  2.35429239e-02,\n",
       "       -3.10532141e+00, -2.09938567e-02, -3.10002708e+00,  4.80546989e-03,\n",
       "       -5.12455404e-01, -9.42647271e-03, -3.13253140e+00, -2.42566932e-02,\n",
       "        4.99319360e-02, -3.12876749e+00,  2.67514348e+00], dtype=float32)"
      ]
     },
     "execution_count": 9,
     "metadata": {},
     "output_type": "execute_result"
    }
   ],
   "source": [
    " # compute the dihedral matrix for a single frame\n",
    "dihe_matrix(coords[0], indices)"
   ]
  },
  {
   "cell_type": "code",
   "execution_count": 10,
   "id": "f1a5496e-b5e5-4e48-a381-ba99038a47c6",
   "metadata": {},
   "outputs": [
    {
     "data": {
      "text/plain": [
       "Array([[ 3.1353030e+00,  2.0490567e-01, -2.5971714e-01, ...,\n",
       "         4.9931936e-02, -3.1287675e+00,  2.6751435e+00],\n",
       "       [-3.6459407e-01,  3.1013265e+00,  1.8986583e-01, ...,\n",
       "         1.6139045e-04,  3.1293099e+00,  2.6755793e+00],\n",
       "       [-1.8132296e-01,  3.1244881e+00,  2.3630585e-01, ...,\n",
       "         2.1339286e-02,  3.1349351e+00,  2.3983095e+00],\n",
       "       ...,\n",
       "       [ 1.6997379e-01, -3.4190464e-01,  3.1237035e+00, ...,\n",
       "         4.8143055e-02, -3.1328082e+00,  2.5498095e+00],\n",
       "       [ 3.1036062e+00,  2.2845075e-01, -3.9643139e-01, ...,\n",
       "         3.4486275e-02, -3.1333880e+00,  2.6467195e+00],\n",
       "       [ 2.2556624e-01, -3.6422220e-01,  3.1413410e+00, ...,\n",
       "         2.5410874e-02,  3.1339469e+00,  1.4440511e+00]], dtype=float32)"
      ]
     },
     "execution_count": 10,
     "metadata": {},
     "output_type": "execute_result"
    }
   ],
   "source": [
    "# compute the dihedral matrix for a trajectory\n",
    "batched_dihe_matrix(coords, indices)"
   ]
  },
  {
   "cell_type": "code",
   "execution_count": 11,
   "id": "fc99a108-d5cb-444e-a603-98898cbffe3e",
   "metadata": {},
   "outputs": [
    {
     "name": "stdout",
     "output_type": "stream",
     "text": [
      "NaN in jac: False\n",
      "jac.shape: (231, 73, 3)\n"
     ]
    }
   ],
   "source": [
    "# derivatives work\n",
    "try:\n",
    "    jac = jax.jacrev(dihe_matrix)(coords[0], indices)\n",
    "    print('NaN in jac:', jnp.any(jnp.isnan(jac)))\n",
    "    print('jac.shape:', jac.shape)\n",
    "except Exception:\n",
    "    print('not reverse-mode differentiable')"
   ]
  },
  {
   "cell_type": "code",
   "execution_count": 12,
   "id": "dcb260a7-4061-41bc-8025-7f5ab161ed43",
   "metadata": {},
   "outputs": [
    {
     "name": "stdout",
     "output_type": "stream",
     "text": [
      "NaN in jac: False\n",
      "jac.shape: (231, 73, 3)\n"
     ]
    }
   ],
   "source": [
    "# derivatives work\n",
    "try:\n",
    "    jac = jax.jacfwd(dihe_matrix)(coords[0], indices)\n",
    "    print('NaN in jac:', jnp.any(jnp.isnan(jac)))\n",
    "    print('jac.shape:', jac.shape)\n",
    "except Exception:\n",
    "    print('not forward-mode differentiable')"
   ]
  },
  {
   "cell_type": "code",
   "execution_count": null,
   "id": "e976007f-264e-4566-b7c9-9731f917a245",
   "metadata": {},
   "outputs": [],
   "source": []
  }
 ],
 "metadata": {
  "kernelspec": {
   "display_name": "Python 3 (ipykernel)",
   "language": "python",
   "name": "python3"
  },
  "language_info": {
   "codemirror_mode": {
    "name": "ipython",
    "version": 3
   },
   "file_extension": ".py",
   "mimetype": "text/x-python",
   "name": "python",
   "nbconvert_exporter": "python",
   "pygments_lexer": "ipython3",
   "version": "3.10.10"
  }
 },
 "nbformat": 4,
 "nbformat_minor": 5
}
