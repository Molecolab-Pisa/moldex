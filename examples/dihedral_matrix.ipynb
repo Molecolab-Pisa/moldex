{
 "cells": [
  {
   "cell_type": "code",
   "execution_count": 1,
   "id": "ea685416-4121-4d63-9b5c-14da6b875203",
   "metadata": {},
   "outputs": [],
   "source": [
    "%load_ext autoreload\n",
    "%autoreload 2"
   ]
  },
  {
   "cell_type": "code",
   "execution_count": 2,
   "id": "3cc3897b-b209-41f7-aadd-9929eaaefbdd",
   "metadata": {},
   "outputs": [],
   "source": [
    "import jax\n",
    "import jax.numpy as jnp\n",
    "\n",
    "from moldex.descriptors import dihe_matrix, batched_dihe_matrix\n",
    "from moldex.mdtraj import dihe_indices_from_top\n",
    "\n",
    "# we use mdtraj here to load the trajectory\n",
    "import mdtraj as md"
   ]
  },
  {
   "cell_type": "code",
   "execution_count": 3,
   "id": "89caa686-10d3-4ab6-af03-a860b97d16fa",
   "metadata": {},
   "outputs": [],
   "source": [
    "traj = md.load('data/cla.nc', top='data/cla.prmtop')"
   ]
  },
  {
   "cell_type": "code",
   "execution_count": 4,
   "id": "c84fa32e-16ee-4ae4-b4c0-901e9fb88e7b",
   "metadata": {},
   "outputs": [
    {
     "name": "stderr",
     "output_type": "stream",
     "text": [
      "No GPU/TPU found, falling back to CPU. (Set TF_CPP_MIN_LOG_LEVEL=0 and rerun for more info.)\n"
     ]
    },
    {
     "name": "stdout",
     "output_type": "stream",
     "text": [
      "(231, 4)\n"
     ]
    }
   ],
   "source": [
    "# utility function that extracts the list of dihedrals from a mdtraj trajectory\n",
    "indices, dihe_names = dihe_indices_from_top(traj.top)\n",
    "\n",
    "print(indices.shape)"
   ]
  },
  {
   "cell_type": "code",
   "execution_count": 5,
   "id": "68523ec8",
   "metadata": {},
   "outputs": [
    {
     "name": "stdout",
     "output_type": "stream",
     "text": [
      "['CLA1@NB', 'CLA1@MG', 'CLA1@NA', 'CLA1@C1A']\n"
     ]
    }
   ],
   "source": [
    "# note that you can use `dihe_names` to identify the dihedrals\n",
    "# e.g., for the first dihedral\n",
    "print(dihe_names[0])"
   ]
  },
  {
   "cell_type": "code",
   "execution_count": 6,
   "id": "db9e908a-0fe9-4977-b178-afceb7f438f8",
   "metadata": {},
   "outputs": [
    {
     "name": "stdout",
     "output_type": "stream",
     "text": [
      "(240, 73, 3)\n"
     ]
    }
   ],
   "source": [
    "# get the coordinates\n",
    "coords = jnp.array(traj.xyz)\n",
    "\n",
    "print(coords.shape)"
   ]
  },
  {
   "cell_type": "code",
   "execution_count": 7,
   "id": "a05f0622-2c00-400c-a7ea-e981e9912766",
   "metadata": {},
   "outputs": [
    {
     "data": {
      "text/plain": [
       "Array([-2.94677329e+00,  2.32801154e-01, -1.68454364e-01,  2.98628235e+00,\n",
       "       -1.21233821e+00,  1.96723640e+00, -1.76939392e+00,  1.52196443e+00,\n",
       "        2.27958765e-02, -3.08081508e+00,  3.13707352e+00,  1.12295039e-01,\n",
       "       -1.54367149e-01,  3.07374716e+00, -1.72036007e-01,  3.00419593e+00,\n",
       "       -3.09003448e+00,  6.47022799e-02, -3.34740095e-02, -3.02530098e+00,\n",
       "       -1.96270645e+00,  1.19203019e+00, -1.35092747e+00,  1.90747941e+00,\n",
       "        1.63732469e-02, -3.09430647e+00, -3.65233980e-02,  3.08083272e+00,\n",
       "       -3.01524305e+00,  2.76115268e-01, -2.15713903e-01,  3.04269290e+00,\n",
       "       -2.78411862e-02, -3.06721377e+00, -2.25434989e-01,  3.06849670e+00,\n",
       "        9.06992704e-02, -2.96101522e+00, -1.49505764e-01,  3.03920770e+00,\n",
       "        1.68850675e-01, -3.07630706e+00, -4.78879502e-03,  3.09037018e+00,\n",
       "       -2.88469148e+00,  1.53335959e-01, -3.11616349e+00,  1.05633664e+00,\n",
       "       -1.22810984e+00,  2.95238924e+00, -2.78823924e+00,  1.25945961e+00,\n",
       "       -8.62994671e-01,  3.06359386e+00, -1.24432474e-01,  9.99816582e-02,\n",
       "       -2.01070356e+00,  1.98803508e+00,  3.08344221e+00,  3.11702633e+00,\n",
       "        1.01199396e-01, -4.12151366e-02,  3.08477402e+00, -2.40695810e+00,\n",
       "        5.83985090e-01, -6.78135827e-02,  3.03631139e+00,  1.56431273e-01,\n",
       "       -3.02220631e+00, -3.07639837e+00,  2.77264994e-02,  3.00184155e+00,\n",
       "       -2.86095476e+00,  1.29738283e+00, -8.81599605e-01, -3.11356831e+00,\n",
       "       -9.02047753e-03, -3.13629818e+00, -3.11629605e+00, -5.99627569e-03,\n",
       "       -5.65260835e-02,  3.11508083e+00,  9.31740180e-02,  3.11578822e+00,\n",
       "        3.06600976e+00, -4.55686562e-02,  3.11616039e+00, -3.12345600e+00,\n",
       "        4.05747592e-02, -3.03014922e+00, -7.53489695e-03,  2.98467016e+00,\n",
       "       -3.01580167e+00,  1.14056647e-01, -5.97654190e-03,  2.95349360e+00,\n",
       "        9.08675268e-02,  3.12277055e+00, -2.97507119e+00, -1.56010073e-02,\n",
       "        3.05156541e+00, -3.03207302e+00,  1.58406585e-01,  3.09085393e+00,\n",
       "       -1.60428315e-01,  3.12687945e+00,  3.12147355e+00, -3.65995392e-02,\n",
       "       -1.02681831e-01, -1.05111852e-01,  2.57930934e-01, -1.97755551e+00,\n",
       "        2.18317556e+00,  2.48772070e-01, -1.87607563e+00,  2.22812724e+00,\n",
       "       -2.82631785e-01,  1.85006595e+00, -2.09130049e+00,  9.57748413e-01,\n",
       "       -1.29888630e+00,  3.04661942e+00,  1.98001671e+00, -2.17047095e+00,\n",
       "        1.71348125e-01, -1.18510938e+00,  2.84144139e+00,  9.03761625e-01,\n",
       "       -2.30315590e+00, -1.70458049e-01,  2.17136097e+00, -2.62344170e+00,\n",
       "        1.44887817e+00, -6.22175157e-01,  3.12471366e+00,  8.68079126e-01,\n",
       "       -1.06960046e+00, -6.42801285e-01, -2.85366678e+00,  1.35846519e+00,\n",
       "        1.36348104e+00, -8.47384632e-01, -2.91843796e+00,  3.62073332e-02,\n",
       "       -4.96688634e-02, -8.10356531e-03,  3.10219622e+00,  4.50892225e-02,\n",
       "       -3.07406545e+00, -2.23950855e-02,  3.09434223e+00, -2.13549450e-01,\n",
       "       -2.24271107e+00,  2.03667545e+00, -3.12713122e+00, -1.03940666e-02,\n",
       "        2.88733625e+00,  8.58174920e-01, -1.14562404e+00,  5.37364125e-01,\n",
       "       -2.49900365e+00, -2.63232565e+00,  6.14492059e-01, -1.06378775e-02,\n",
       "       -3.03443718e+00,  3.02542710e+00,  1.62795139e-03, -5.47024235e-02,\n",
       "        6.23116121e-02,  2.45421603e-02, -3.12878489e+00, -4.42652032e-02,\n",
       "       -3.13697100e+00,  1.29236178e-02,  3.10466599e+00,  2.28702217e-01,\n",
       "       -2.12019610e+00,  2.01533794e+00, -3.11787963e+00, -2.61372812e-02,\n",
       "       -2.92603278e+00,  1.00825429e+00, -1.13939703e+00,  1.59003091e+00,\n",
       "       -3.94594729e-01, -2.51014209e+00, -1.61158049e+00,  2.68697929e+00,\n",
       "        5.71431875e-01,  8.07981312e-01, -1.37503707e+00,  2.85455823e+00,\n",
       "        2.94364309e+00,  7.60624647e-01, -1.29296517e+00, -1.41321683e+00,\n",
       "        2.68695021e+00,  6.33360147e-01,  7.51650557e-02, -1.10295629e-02,\n",
       "       -1.13545284e-01,  3.01156688e+00, -6.13157339e-02, -3.07714272e+00,\n",
       "        1.02918096e-01,  3.03184938e+00, -2.06656075e+00,  1.92401910e+00,\n",
       "        1.62997290e-01, -3.02201128e+00, -9.30801928e-02,  1.05539632e+00,\n",
       "       -1.23720896e+00, -2.99823093e+00,  2.06709191e-01, -2.95201182e+00,\n",
       "        3.12998080e+00, -2.87402421e-02,  2.10702133e+00, -2.07714701e+00,\n",
       "       -1.05017483e+00,  1.04884231e+00,  1.83831716e+00, -1.45392489e+00,\n",
       "       -1.28256828e-01,  2.86268640e+00, -2.82116199e+00,  1.91325262e-01,\n",
       "        3.09936595e+00,  9.49223399e-01, -1.06014216e+00], dtype=float32)"
      ]
     },
     "execution_count": 7,
     "metadata": {},
     "output_type": "execute_result"
    }
   ],
   "source": [
    " # compute the dihedral matrix for a single frame\n",
    "dihe_matrix(coords[0], indices)"
   ]
  },
  {
   "cell_type": "code",
   "execution_count": 8,
   "id": "f1a5496e-b5e5-4e48-a381-ba99038a47c6",
   "metadata": {},
   "outputs": [
    {
     "data": {
      "text/plain": [
       "Array([[-2.9467733e+00,  2.3280115e-01, -1.6845436e-01, ...,\n",
       "         3.0993659e+00,  9.4922340e-01, -1.0601422e+00],\n",
       "       [ 3.1320305e+00,  7.8233518e-04,  6.8332851e-02, ...,\n",
       "        -1.2063485e+00,  2.8716404e+00,  9.2244256e-01],\n",
       "       [-2.8778992e+00,  9.7910859e-02, -2.3373741e-01, ...,\n",
       "        -8.8215351e-01,  3.0287113e+00,  1.0110229e+00],\n",
       "       ...,\n",
       "       [-3.0477479e+00,  2.1704023e-01, -2.9153711e-01, ...,\n",
       "         8.8143826e-01, -1.1924365e+00,  3.0157919e+00],\n",
       "       [-3.0620704e+00,  1.6442676e-01, -1.6026269e-01, ...,\n",
       "         2.8853321e+00,  1.0130458e+00, -1.2372390e+00],\n",
       "       [-2.9556723e+00,  1.1466689e-01, -8.7674893e-02, ...,\n",
       "         9.9890798e-01, -1.2011826e+00,  3.1398885e+00]], dtype=float32)"
      ]
     },
     "execution_count": 8,
     "metadata": {},
     "output_type": "execute_result"
    }
   ],
   "source": [
    "# compute the dihedral matrix for a trajectory\n",
    "batched_dihe_matrix(coords, indices)"
   ]
  },
  {
   "cell_type": "code",
   "execution_count": 9,
   "id": "fc99a108-d5cb-444e-a603-98898cbffe3e",
   "metadata": {},
   "outputs": [
    {
     "name": "stdout",
     "output_type": "stream",
     "text": [
      "NaN in jac: False\n",
      "jac.shape: (231, 73, 3)\n"
     ]
    }
   ],
   "source": [
    "# derivatives work\n",
    "try:\n",
    "    jac = jax.jacrev(dihe_matrix)(coords[0], indices)\n",
    "    print('NaN in jac:', jnp.any(jnp.isnan(jac)))\n",
    "    print('jac.shape:', jac.shape)\n",
    "except Exception:\n",
    "    print('not reverse-mode differentiable')"
   ]
  },
  {
   "cell_type": "code",
   "execution_count": 10,
   "id": "dcb260a7-4061-41bc-8025-7f5ab161ed43",
   "metadata": {},
   "outputs": [
    {
     "name": "stdout",
     "output_type": "stream",
     "text": [
      "NaN in jac: False\n",
      "jac.shape: (231, 73, 3)\n"
     ]
    }
   ],
   "source": [
    "# derivatives work\n",
    "try:\n",
    "    jac = jax.jacfwd(dihe_matrix)(coords[0], indices)\n",
    "    print('NaN in jac:', jnp.any(jnp.isnan(jac)))\n",
    "    print('jac.shape:', jac.shape)\n",
    "except Exception:\n",
    "    print('not forward-mode differentiable')"
   ]
  },
  {
   "cell_type": "code",
   "execution_count": null,
   "id": "e976007f-264e-4566-b7c9-9731f917a245",
   "metadata": {},
   "outputs": [],
   "source": []
  }
 ],
 "metadata": {
  "kernelspec": {
   "display_name": "Python 3 (ipykernel)",
   "language": "python",
   "name": "python3"
  },
  "language_info": {
   "codemirror_mode": {
    "name": "ipython",
    "version": 3
   },
   "file_extension": ".py",
   "mimetype": "text/x-python",
   "name": "python",
   "nbconvert_exporter": "python",
   "pygments_lexer": "ipython3",
   "version": "3.10.12"
  }
 },
 "nbformat": 4,
 "nbformat_minor": 5
}
