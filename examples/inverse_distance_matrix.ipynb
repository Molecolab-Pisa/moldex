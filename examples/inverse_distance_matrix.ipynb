{
 "cells": [
  {
   "cell_type": "code",
   "execution_count": 1,
   "id": "1d027eca-0a76-4d4c-a5a5-f48dc25f7081",
   "metadata": {},
   "outputs": [],
   "source": [
    "%load_ext autoreload\n",
    "%autoreload 2"
   ]
  },
  {
   "cell_type": "code",
   "execution_count": 12,
   "id": "d02c42fa-4647-4fb6-bd03-30fb2635b560",
   "metadata": {},
   "outputs": [],
   "source": [
    "import jax\n",
    "import jax.numpy as jnp\n",
    "from jax import vmap, jacrev, jacfwd\n",
    "\n",
    "from moldex.descriptors import inverse_distance_matrix"
   ]
  },
  {
   "cell_type": "code",
   "execution_count": 23,
   "id": "720b3c4a-d980-46cf-9eb1-f8a8d0e65961",
   "metadata": {},
   "outputs": [],
   "source": [
    "# simulate the coordinates of a molecule of 100 atoms\n",
    "coords = jax.random.normal(jax.random.PRNGKey(2023), shape=(100, 3))"
   ]
  },
  {
   "cell_type": "markdown",
   "id": "d23e967c-af31-47cc-8beb-6e5d7c92cde6",
   "metadata": {},
   "source": [
    "Compute the descriptor"
   ]
  },
  {
   "cell_type": "code",
   "execution_count": 10,
   "id": "dbbcde24-0584-4414-993b-3801236ea905",
   "metadata": {},
   "outputs": [
    {
     "data": {
      "text/plain": [
       "Array([[0.        , 0.86971694, 0.41963887, ..., 0.2899901 , 1.0181781 ,\n",
       "        0.6011578 ],\n",
       "       [0.86971694, 0.        , 0.36460266, ..., 0.30790445, 0.5616225 ,\n",
       "        0.48058152],\n",
       "       [0.41963887, 0.36460266, 0.        , ..., 0.5877673 , 0.37714306,\n",
       "        0.45621592],\n",
       "       ...,\n",
       "       [0.2899901 , 0.30790445, 0.5877673 , ..., 0.        , 0.27161607,\n",
       "        0.34341046],\n",
       "       [1.0181781 , 0.5616225 , 0.37714306, ..., 0.27161607, 0.        ,\n",
       "        0.91935885],\n",
       "       [0.6011578 , 0.48058152, 0.45621592, ..., 0.34341046, 0.91935885,\n",
       "        0.        ]], dtype=float32)"
      ]
     },
     "execution_count": 10,
     "metadata": {},
     "output_type": "execute_result"
    }
   ],
   "source": [
    "inverse_distance_matrix(coords)"
   ]
  },
  {
   "cell_type": "code",
   "execution_count": 11,
   "id": "2171b539-9df8-4adc-baf5-2ad8f9923e2b",
   "metadata": {},
   "outputs": [
    {
     "name": "stdout",
     "output_type": "stream",
     "text": [
      "17.6 µs ± 342 ns per loop (mean ± std. dev. of 7 runs, 100,000 loops each)\n"
     ]
    }
   ],
   "source": [
    "%timeit inverse_distance_matrix(coords)"
   ]
  },
  {
   "cell_type": "markdown",
   "id": "7a98db78-12c4-4436-b5a1-030fef5bdc27",
   "metadata": {},
   "source": [
    "You can compute the jacobian of the transformation. Constructing it calling forward is faster"
   ]
  },
  {
   "cell_type": "code",
   "execution_count": 13,
   "id": "fb0a43b7-3392-4dce-b90b-c800e5bead42",
   "metadata": {},
   "outputs": [
    {
     "name": "stdout",
     "output_type": "stream",
     "text": [
      "20.1 ms ± 812 µs per loop (mean ± std. dev. of 7 runs, 1 loop each)\n"
     ]
    }
   ],
   "source": [
    "%timeit jacfwd(inverse_distance_matrix)(coords)"
   ]
  },
  {
   "cell_type": "code",
   "execution_count": 14,
   "id": "69ab3a6c-a57a-43a5-a127-2082c241df05",
   "metadata": {},
   "outputs": [
    {
     "name": "stdout",
     "output_type": "stream",
     "text": [
      "859 ms ± 30.8 ms per loop (mean ± std. dev. of 7 runs, 1 loop each)\n"
     ]
    }
   ],
   "source": [
    "%timeit jacrev(inverse_distance_matrix)(coords)"
   ]
  },
  {
   "cell_type": "code",
   "execution_count": 16,
   "id": "c526b42d-03ca-4f30-a386-8c4ac4d210b1",
   "metadata": {},
   "outputs": [
    {
     "data": {
      "text/plain": [
       "Array(True, dtype=bool)"
      ]
     },
     "execution_count": 16,
     "metadata": {},
     "output_type": "execute_result"
    }
   ],
   "source": [
    "diff = jacrev(inverse_distance_matrix)(coords) - jacfwd(inverse_distance_matrix)(coords)\n",
    "jnp.all(diff == 0)"
   ]
  },
  {
   "cell_type": "markdown",
   "id": "dc96520e-f31e-49b8-81d5-eddf7ab68f7c",
   "metadata": {},
   "source": [
    "You can vectorize over a trajectory"
   ]
  },
  {
   "cell_type": "code",
   "execution_count": 30,
   "id": "aba225ca-9124-445d-b740-4437f932f7dc",
   "metadata": {},
   "outputs": [
    {
     "data": {
      "text/plain": [
       "(500, 100, 3)"
      ]
     },
     "execution_count": 30,
     "metadata": {},
     "output_type": "execute_result"
    }
   ],
   "source": [
    "batched_inverse_distance_matrix = vmap(inverse_distance_matrix)\n",
    "\n",
    "traj = jnp.array([coords for _ in range(500)])\n",
    "traj.shape"
   ]
  },
  {
   "cell_type": "code",
   "execution_count": 34,
   "id": "2ae39e47-85fa-478a-b63e-5c5902722011",
   "metadata": {},
   "outputs": [
    {
     "data": {
      "text/plain": [
       "(500, 100, 100)"
      ]
     },
     "execution_count": 34,
     "metadata": {},
     "output_type": "execute_result"
    }
   ],
   "source": [
    "matrices = batched_inverse_distance_matrix(traj)\n",
    "matrices.shape"
   ]
  },
  {
   "cell_type": "code",
   "execution_count": 35,
   "id": "0fa5868f-11a6-42aa-95d1-dd96033f5372",
   "metadata": {},
   "outputs": [
    {
     "name": "stdout",
     "output_type": "stream",
     "text": [
      "12 ms ± 450 µs per loop (mean ± std. dev. of 7 runs, 100 loops each)\n"
     ]
    }
   ],
   "source": [
    "%timeit batched_inverse_distance_matrix(traj)"
   ]
  },
  {
   "cell_type": "code",
   "execution_count": null,
   "id": "2ae363c7-329a-4433-8be1-9a7d4640c04b",
   "metadata": {},
   "outputs": [],
   "source": []
  }
 ],
 "metadata": {
  "kernelspec": {
   "display_name": "Python 3 (ipykernel)",
   "language": "python",
   "name": "python3"
  },
  "language_info": {
   "codemirror_mode": {
    "name": "ipython",
    "version": 3
   },
   "file_extension": ".py",
   "mimetype": "text/x-python",
   "name": "python",
   "nbconvert_exporter": "python",
   "pygments_lexer": "ipython3",
   "version": "3.10.10"
  }
 },
 "nbformat": 4,
 "nbformat_minor": 5
}
