{
 "cells": [
  {
   "cell_type": "code",
   "execution_count": 1,
   "id": "1d027eca-0a76-4d4c-a5a5-f48dc25f7081",
   "metadata": {},
   "outputs": [],
   "source": [
    "%load_ext autoreload\n",
    "%autoreload 2"
   ]
  },
  {
   "cell_type": "code",
   "execution_count": 2,
   "id": "d02c42fa-4647-4fb6-bd03-30fb2635b560",
   "metadata": {},
   "outputs": [],
   "source": [
    "import jax\n",
    "import jax.numpy as jnp\n",
    "from jax import vmap, jacrev, jacfwd\n",
    "\n",
    "from moldex.descriptors import inverse_distance_matrix"
   ]
  },
  {
   "cell_type": "code",
   "execution_count": 3,
   "id": "720b3c4a-d980-46cf-9eb1-f8a8d0e65961",
   "metadata": {},
   "outputs": [],
   "source": [
    "# simulate the coordinates of a molecule of 100 atoms\n",
    "coords = jax.random.normal(jax.random.PRNGKey(2023), shape=(100, 3))"
   ]
  },
  {
   "cell_type": "markdown",
   "id": "d23e967c-af31-47cc-8beb-6e5d7c92cde6",
   "metadata": {},
   "source": [
    "Compute the descriptor"
   ]
  },
  {
   "cell_type": "code",
   "execution_count": 5,
   "id": "dbbcde24-0584-4414-993b-3801236ea905",
   "metadata": {},
   "outputs": [
    {
     "data": {
      "text/plain": [
       "Array([[0.        , 0.869717  , 0.41963887, ..., 0.28999007, 1.0181782 ,\n",
       "        0.6011578 ],\n",
       "       [0.869717  , 0.        , 0.36460266, ..., 0.30790445, 0.56162256,\n",
       "        0.48058155],\n",
       "       [0.41963887, 0.36460266, 0.        , ..., 0.58776724, 0.37714309,\n",
       "        0.45621592],\n",
       "       ...,\n",
       "       [0.28999007, 0.30790445, 0.58776724, ..., 0.        , 0.27161607,\n",
       "        0.34341043],\n",
       "       [1.0181782 , 0.56162256, 0.37714309, ..., 0.27161607, 0.        ,\n",
       "        0.91935885],\n",
       "       [0.6011578 , 0.48058155, 0.45621592, ..., 0.34341043, 0.91935885,\n",
       "        0.        ]], dtype=float32)"
      ]
     },
     "execution_count": 5,
     "metadata": {},
     "output_type": "execute_result"
    }
   ],
   "source": [
    "inverse_distance_matrix(coords)"
   ]
  },
  {
   "cell_type": "code",
   "execution_count": 10,
   "id": "2171b539-9df8-4adc-baf5-2ad8f9923e2b",
   "metadata": {},
   "outputs": [
    {
     "name": "stdout",
     "output_type": "stream",
     "text": [
      "547 µs ± 3.88 µs per loop (mean ± std. dev. of 7 runs, 1,000 loops each)\n"
     ]
    }
   ],
   "source": [
    "%timeit inverse_distance_matrix(coords)"
   ]
  },
  {
   "cell_type": "markdown",
   "id": "7a98db78-12c4-4436-b5a1-030fef5bdc27",
   "metadata": {},
   "source": [
    "You can compute the jacobian of the transformation. Constructing it calling forward is faster"
   ]
  },
  {
   "cell_type": "code",
   "execution_count": 11,
   "id": "fb0a43b7-3392-4dce-b90b-c800e5bead42",
   "metadata": {},
   "outputs": [
    {
     "name": "stdout",
     "output_type": "stream",
     "text": [
      "7.05 ms ± 819 µs per loop (mean ± std. dev. of 7 runs, 1 loop each)\n"
     ]
    }
   ],
   "source": [
    "%timeit jacfwd(inverse_distance_matrix)(coords)"
   ]
  },
  {
   "cell_type": "code",
   "execution_count": 12,
   "id": "69ab3a6c-a57a-43a5-a127-2082c241df05",
   "metadata": {},
   "outputs": [
    {
     "name": "stdout",
     "output_type": "stream",
     "text": [
      "14.4 ms ± 2.41 ms per loop (mean ± std. dev. of 7 runs, 1 loop each)\n"
     ]
    }
   ],
   "source": [
    "%timeit jacrev(inverse_distance_matrix)(coords)"
   ]
  },
  {
   "cell_type": "code",
   "execution_count": 17,
   "id": "c526b42d-03ca-4f30-a386-8c4ac4d210b1",
   "metadata": {},
   "outputs": [
    {
     "data": {
      "text/plain": [
       "Array(True, dtype=bool)"
      ]
     },
     "execution_count": 17,
     "metadata": {},
     "output_type": "execute_result"
    }
   ],
   "source": [
    "diff = jacrev(inverse_distance_matrix)(coords) - jacfwd(inverse_distance_matrix)(coords)\n",
    "jnp.all(diff == 0)"
   ]
  },
  {
   "cell_type": "markdown",
   "id": "dc96520e-f31e-49b8-81d5-eddf7ab68f7c",
   "metadata": {},
   "source": [
    "You can vectorize over a trajectory"
   ]
  },
  {
   "cell_type": "code",
   "execution_count": 18,
   "id": "aba225ca-9124-445d-b740-4437f932f7dc",
   "metadata": {},
   "outputs": [
    {
     "data": {
      "text/plain": [
       "(500, 100, 3)"
      ]
     },
     "execution_count": 18,
     "metadata": {},
     "output_type": "execute_result"
    }
   ],
   "source": [
    "batched_inverse_distance_matrix = vmap(inverse_distance_matrix)\n",
    "\n",
    "traj = jnp.array([coords for _ in range(500)])\n",
    "traj.shape"
   ]
  },
  {
   "cell_type": "code",
   "execution_count": 19,
   "id": "2ae39e47-85fa-478a-b63e-5c5902722011",
   "metadata": {},
   "outputs": [
    {
     "data": {
      "text/plain": [
       "(500, 100, 100)"
      ]
     },
     "execution_count": 19,
     "metadata": {},
     "output_type": "execute_result"
    }
   ],
   "source": [
    "matrices = batched_inverse_distance_matrix(traj)\n",
    "matrices.shape"
   ]
  },
  {
   "cell_type": "code",
   "execution_count": 20,
   "id": "0fa5868f-11a6-42aa-95d1-dd96033f5372",
   "metadata": {},
   "outputs": [
    {
     "name": "stdout",
     "output_type": "stream",
     "text": [
      "1.49 ms ± 65.2 µs per loop (mean ± std. dev. of 7 runs, 1,000 loops each)\n"
     ]
    }
   ],
   "source": [
    "%timeit batched_inverse_distance_matrix(traj)"
   ]
  },
  {
   "cell_type": "code",
   "execution_count": null,
   "id": "2ae363c7-329a-4433-8be1-9a7d4640c04b",
   "metadata": {},
   "outputs": [],
   "source": []
  }
 ],
 "metadata": {
  "kernelspec": {
   "display_name": "Python 3 (ipykernel)",
   "language": "python",
   "name": "python3"
  },
  "language_info": {
   "codemirror_mode": {
    "name": "ipython",
    "version": 3
   },
   "file_extension": ".py",
   "mimetype": "text/x-python",
   "name": "python",
   "nbconvert_exporter": "python",
   "pygments_lexer": "ipython3",
   "version": "3.10.12"
  }
 },
 "nbformat": 4,
 "nbformat_minor": 5
}
