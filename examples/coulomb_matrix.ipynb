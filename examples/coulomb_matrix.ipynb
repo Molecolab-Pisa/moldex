{
 "cells": [
  {
   "cell_type": "code",
   "execution_count": 1,
   "id": "c11c3b77",
   "metadata": {},
   "outputs": [],
   "source": [
    "%load_ext autoreload\n",
    "%autoreload 2\n",
    "\n",
    "import os\n",
    "os.environ['CUDA_VISIBLE_DEVICES'] = str(0)"
   ]
  },
  {
   "cell_type": "code",
   "execution_count": 2,
   "id": "20898c17",
   "metadata": {},
   "outputs": [],
   "source": [
    "import jax\n",
    "import jax.numpy as jnp\n",
    "from jax import vmap, jacrev, jacfwd\n",
    "\n",
    "from tqdm import tqdm\n",
    "\n",
    "from moldex.descriptors import coulomb_matrix"
   ]
  },
  {
   "cell_type": "code",
   "execution_count": 3,
   "id": "1b2c60f0",
   "metadata": {},
   "outputs": [],
   "source": [
    "# simulate the coordinates and nuclear charges of a molecule of 100 atoms\n",
    "\n",
    "def make_molecule(key, n_samples=100):\n",
    "    coords = jax.random.normal(key, shape=(n_samples, 3))\n",
    "\n",
    "    atnums = jnp.zeros(shape=(n_samples,))\n",
    "    atnums = atnums.at[:int(n_samples/50)].add(8)\n",
    "    atnums = atnums.at[int(n_samples/50):int(n_samples/5)].add(6)\n",
    "    atnums = atnums.at[int(n_samples/5):].add(1)\n",
    "    \n",
    "    return coords, atnums"
   ]
  },
  {
   "cell_type": "code",
   "execution_count": 4,
   "id": "aec92af9",
   "metadata": {},
   "outputs": [],
   "source": [
    "coords, atnums = make_molecule(jax.random.PRNGKey(2023))"
   ]
  },
  {
   "cell_type": "markdown",
   "id": "49f366c4",
   "metadata": {},
   "source": [
    "Compute the descriptor"
   ]
  },
  {
   "cell_type": "code",
   "execution_count": 5,
   "id": "f75c592b",
   "metadata": {},
   "outputs": [
    {
     "data": {
      "text/plain": [
       "Array([[73.51671   , 55.66189   , 20.142666  , ...,  2.3199205 ,\n",
       "         8.145426  ,  4.8092623 ],\n",
       "       [55.66189   , 73.51671   , 17.500927  , ...,  2.4632356 ,\n",
       "         4.4929805 ,  3.8446524 ],\n",
       "       [20.142666  , 17.500927  , 36.85811   , ...,  3.5266035 ,\n",
       "         2.2628584 ,  2.7372956 ],\n",
       "       ...,\n",
       "       [ 2.3199205 ,  2.4632356 ,  3.5266035 , ...,  0.5       ,\n",
       "         0.27161607,  0.34341043],\n",
       "       [ 8.145426  ,  4.4929805 ,  2.2628584 , ...,  0.27161607,\n",
       "         0.5       ,  0.91935885],\n",
       "       [ 4.8092623 ,  3.8446524 ,  2.7372956 , ...,  0.34341043,\n",
       "         0.91935885,  0.5       ]], dtype=float32)"
      ]
     },
     "execution_count": 5,
     "metadata": {},
     "output_type": "execute_result"
    }
   ],
   "source": [
    "coulomb_matrix(coords, atnums)"
   ]
  },
  {
   "cell_type": "code",
   "execution_count": 6,
   "id": "bcc39a4e",
   "metadata": {},
   "outputs": [
    {
     "name": "stdout",
     "output_type": "stream",
     "text": [
      "963 µs ± 42.5 µs per loop (mean ± std. dev. of 7 runs, 1,000 loops each)\n"
     ]
    }
   ],
   "source": [
    "%timeit coulomb_matrix(coords, atnums)"
   ]
  },
  {
   "cell_type": "markdown",
   "id": "0654012f",
   "metadata": {},
   "source": [
    "You can compute the jacobian of the transformation. Constructing it calling forward is faster"
   ]
  },
  {
   "cell_type": "code",
   "execution_count": 7,
   "id": "4335dea1",
   "metadata": {
    "scrolled": false
   },
   "outputs": [
    {
     "name": "stdout",
     "output_type": "stream",
     "text": [
      "7.61 ms ± 1.78 ms per loop (mean ± std. dev. of 7 runs, 1 loop each)\n"
     ]
    }
   ],
   "source": [
    "%timeit jacfwd(coulomb_matrix)(coords, atnums)"
   ]
  },
  {
   "cell_type": "code",
   "execution_count": 8,
   "id": "96c3e413",
   "metadata": {},
   "outputs": [
    {
     "name": "stdout",
     "output_type": "stream",
     "text": [
      "15.2 ms ± 4.51 ms per loop (mean ± std. dev. of 7 runs, 1 loop each)\n"
     ]
    }
   ],
   "source": [
    "%timeit jacrev(coulomb_matrix)(coords, atnums)"
   ]
  },
  {
   "cell_type": "code",
   "execution_count": 9,
   "id": "45645272",
   "metadata": {},
   "outputs": [
    {
     "data": {
      "text/plain": [
       "Array(True, dtype=bool)"
      ]
     },
     "execution_count": 9,
     "metadata": {},
     "output_type": "execute_result"
    }
   ],
   "source": [
    "diff = jacrev(coulomb_matrix)(coords, atnums) - jacfwd(coulomb_matrix)(coords, atnums)\n",
    "jnp.all(diff == 0)"
   ]
  },
  {
   "cell_type": "markdown",
   "id": "0f4c0445",
   "metadata": {},
   "source": [
    "You can vectorize over a trajectory"
   ]
  },
  {
   "cell_type": "code",
   "execution_count": 10,
   "id": "b2fefa4d",
   "metadata": {},
   "outputs": [],
   "source": [
    "batched_coulomb_matrix = vmap(coulomb_matrix)"
   ]
  },
  {
   "cell_type": "code",
   "execution_count": 11,
   "id": "708eea95",
   "metadata": {},
   "outputs": [
    {
     "data": {
      "text/plain": [
       "((500, 100, 3), (500, 100))"
      ]
     },
     "execution_count": 11,
     "metadata": {},
     "output_type": "execute_result"
    }
   ],
   "source": [
    "traj_coords = jnp.array(\n",
    "    [make_molecule(jax.random.PRNGKey(2023))[0] for _ in range(500)]\n",
    ")\n",
    "\n",
    "traj_charges = jnp.array(\n",
    "    [make_molecule(jax.random.PRNGKey(2023))[1] for _ in range(500)]\n",
    ")\n",
    "\n",
    "traj_coords.shape, traj_charges.shape"
   ]
  },
  {
   "cell_type": "code",
   "execution_count": 12,
   "id": "58ece9cc",
   "metadata": {},
   "outputs": [
    {
     "data": {
      "text/plain": [
       "(500, 100, 100)"
      ]
     },
     "execution_count": 12,
     "metadata": {},
     "output_type": "execute_result"
    }
   ],
   "source": [
    "cm_matrices = batched_coulomb_matrix(traj_coords, traj_charges)\n",
    "cm_matrices.shape"
   ]
  },
  {
   "cell_type": "code",
   "execution_count": 13,
   "id": "dd30d8ef",
   "metadata": {},
   "outputs": [
    {
     "name": "stdout",
     "output_type": "stream",
     "text": [
      "1.63 ms ± 25.8 µs per loop (mean ± std. dev. of 7 runs, 1,000 loops each)\n"
     ]
    }
   ],
   "source": [
    "%timeit batched_coulomb_matrix(traj_coords, traj_charges)"
   ]
  },
  {
   "cell_type": "markdown",
   "id": "337b6e28",
   "metadata": {},
   "source": [
    "The hessian of the transformation can be computed only farward as the backward suffers from the NaN propagation problem"
   ]
  },
  {
   "cell_type": "code",
   "execution_count": 14,
   "id": "fa4255a1",
   "metadata": {},
   "outputs": [
    {
     "data": {
      "text/plain": [
       "Array([[[[[[0., 0., 0.]],\n",
       "\n",
       "          [[0., 0., 0.]],\n",
       "\n",
       "          [[0., 0., 0.]]]]]], dtype=float32)"
      ]
     },
     "execution_count": 14,
     "metadata": {},
     "output_type": "execute_result"
    }
   ],
   "source": [
    "func = jacfwd(jacfwd(coulomb_matrix))\n",
    "\n",
    "func(coords[0:1], atnums[0:1])"
   ]
  },
  {
   "cell_type": "code",
   "execution_count": 15,
   "id": "809c638f",
   "metadata": {},
   "outputs": [
    {
     "data": {
      "text/plain": [
       "Array([[[[[[nan, nan, nan]],\n",
       "\n",
       "          [[nan, nan, nan]],\n",
       "\n",
       "          [[nan, nan, nan]]]]]], dtype=float32)"
      ]
     },
     "execution_count": 15,
     "metadata": {},
     "output_type": "execute_result"
    }
   ],
   "source": [
    "func = jacrev(jacrev(coulomb_matrix))\n",
    "\n",
    "func(coords[0:1], atnums[0:1])"
   ]
  }
 ],
 "metadata": {
  "kernelspec": {
   "display_name": "gpxenv",
   "language": "python",
   "name": "gpxenv"
  },
  "language_info": {
   "codemirror_mode": {
    "name": "ipython",
    "version": 3
   },
   "file_extension": ".py",
   "mimetype": "text/x-python",
   "name": "python",
   "nbconvert_exporter": "python",
   "pygments_lexer": "ipython3",
   "version": "3.10.10"
  }
 },
 "nbformat": 4,
 "nbformat_minor": 5
}
