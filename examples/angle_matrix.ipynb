{
 "cells": [
  {
   "cell_type": "code",
   "execution_count": 1,
   "id": "73e63196-d9b8-4957-b18c-2b90ca24f42b",
   "metadata": {},
   "outputs": [],
   "source": [
    "%load_ext autoreload\n",
    "%autoreload 2"
   ]
  },
  {
   "cell_type": "code",
   "execution_count": 2,
   "id": "20b9ce31-0f7c-44a4-aca9-c6600543ce03",
   "metadata": {},
   "outputs": [],
   "source": [
    "import jax\n",
    "import jax.numpy as jnp\n",
    "\n",
    "from moldex.descriptors import angle_matrix, batched_angle_matrix\n",
    "from moldex.mdtraj import angle_indices_from_top\n",
    "\n",
    "# we use mdtraj here to load the trajectory\n",
    "import mdtraj as md"
   ]
  },
  {
   "cell_type": "code",
   "execution_count": 3,
   "id": "f3a016db-6abd-4fb9-a096-9a328466e35d",
   "metadata": {},
   "outputs": [],
   "source": [
    "traj = md.load('data/cla.nc', top='data/cla.prmtop')"
   ]
  },
  {
   "cell_type": "code",
   "execution_count": 4,
   "id": "588ed0a4-e8bb-4f26-ae0c-65ec12b183c4",
   "metadata": {},
   "outputs": [
    {
     "name": "stderr",
     "output_type": "stream",
     "text": [
      "No GPU/TPU found, falling back to CPU. (Set TF_CPP_MIN_LOG_LEVEL=0 and rerun for more info.)\n"
     ]
    },
    {
     "name": "stdout",
     "output_type": "stream",
     "text": [
      "(151, 3)\n"
     ]
    }
   ],
   "source": [
    " # utility function that extracts the list of bonds from a mdtraj trajectory\n",
    "indices, angle_names = angle_indices_from_top(traj.top)\n",
    "\n",
    "print(indices.shape)"
   ]
  },
  {
   "cell_type": "code",
   "execution_count": 5,
   "id": "f1730913",
   "metadata": {},
   "outputs": [
    {
     "name": "stdout",
     "output_type": "stream",
     "text": [
      "['CLA1@MG', 'CLA1@NA', 'CLA1@C1A']\n"
     ]
    }
   ],
   "source": [
    "# note that you can use `angle_names` to identify the angles\n",
    "# e.g., for the first angle\n",
    "print(angle_names[0])"
   ]
  },
  {
   "cell_type": "code",
   "execution_count": 6,
   "id": "a02d9900-9155-4263-9ed2-c5bcf46d46fa",
   "metadata": {},
   "outputs": [
    {
     "name": "stdout",
     "output_type": "stream",
     "text": [
      "(240, 73, 3)\n"
     ]
    }
   ],
   "source": [
    "# get the coordinates\n",
    "coords = jnp.array(traj.xyz)\n",
    "\n",
    "print(coords.shape)"
   ]
  },
  {
   "cell_type": "code",
   "execution_count": 7,
   "id": "44c3f034-0e13-4908-b6d3-15b734b09cff",
   "metadata": {},
   "outputs": [
    {
     "data": {
      "text/plain": [
       "Array([2.22651  , 2.1156006, 2.2046494, 2.2061594, 2.134764 , 2.2044322,\n",
       "       2.2986271, 2.104153 , 2.1025178, 2.244131 , 2.3340795, 1.9569604,\n",
       "       1.8091801, 1.9938146, 1.9640675, 2.229071 , 2.1065707, 2.1284547,\n",
       "       2.2383604, 2.121804 , 2.2687442, 2.2003345, 2.1870918, 2.197832 ,\n",
       "       2.210595 , 2.1847842, 2.2366302, 1.9326735, 1.9470304, 1.8172264,\n",
       "       2.0481417, 1.9335165, 1.7357104, 1.9870574, 1.9403062, 2.1132276,\n",
       "       1.9576367, 1.7804285, 1.8121316, 2.0245125, 1.9442816, 1.9405506,\n",
       "       1.9979782, 2.0034063, 1.595839 , 1.9158843, 1.8923274, 2.2604284,\n",
       "       1.8701202, 2.0960517, 1.8727707, 2.2744286, 1.9610023, 1.9095137,\n",
       "       1.891455 , 2.1914768, 2.040798 , 1.8723179, 2.3164625, 2.1357198,\n",
       "       2.150674 , 2.0949423, 2.9185662, 1.5823983, 1.8908424, 1.863518 ,\n",
       "       2.3170362, 1.8979928, 2.251046 , 1.8345889, 2.2364557, 1.9598796,\n",
       "       2.0817668, 1.8696939, 2.0130725, 1.9949795, 1.9656956, 1.9358145,\n",
       "       2.1340866, 2.210964 , 1.8203055, 1.9641558, 1.9241865, 1.5850295,\n",
       "       2.9651558, 1.4839582, 1.8577409, 1.9913548, 2.1578338, 1.8734305,\n",
       "       2.1973152, 1.8192413, 2.5455775, 2.0349817, 1.8441117, 2.0546854,\n",
       "       2.2647326, 1.881166 , 2.196001 , 1.8758085, 2.2123084, 1.9053597,\n",
       "       1.9374988, 1.7614589, 2.220488 , 1.8640823, 2.1371596, 2.2960792,\n",
       "       1.8961813, 1.9955633, 2.0816944, 1.8203231, 1.9542804, 1.9381222,\n",
       "       2.045501 , 1.970667 , 2.031205 , 1.9348166, 2.2398462, 1.8753289,\n",
       "       1.8009549, 1.8464898, 1.7289135, 2.0356703, 2.0004005, 1.8650947,\n",
       "       1.8146857, 1.883445 , 1.8832703, 1.819781 , 1.8333824, 2.0170655,\n",
       "       1.8450758, 2.0463932, 2.031957 , 1.9616767, 1.6485453, 1.8866559,\n",
       "       1.7264885, 1.8909944, 1.8520817, 2.0039263, 1.9081216, 1.8438263,\n",
       "       2.035383 , 1.8506817, 1.6063879, 1.9757938, 1.9818683, 1.967356 ,\n",
       "       1.806127 ], dtype=float32)"
      ]
     },
     "execution_count": 7,
     "metadata": {},
     "output_type": "execute_result"
    }
   ],
   "source": [
    "# compute the angle matrix for a single frame\n",
    "angle_matrix(coords[0], indices)"
   ]
  },
  {
   "cell_type": "code",
   "execution_count": 8,
   "id": "3e24f291-3ea7-48b5-bac6-9cf947261242",
   "metadata": {},
   "outputs": [
    {
     "data": {
      "text/plain": [
       "Array([[2.22651  , 2.1156006, 2.2046494, ..., 1.9818683, 1.967356 ,\n",
       "        1.806127 ],\n",
       "       [2.222229 , 2.1551707, 2.186135 , ..., 1.9811524, 1.9161453,\n",
       "        1.835352 ],\n",
       "       [2.2192702, 2.1346827, 2.1523967, ..., 2.0956373, 1.7886938,\n",
       "        1.9214677],\n",
       "       ...,\n",
       "       [2.2591925, 2.1234214, 2.1567874, ..., 1.7077527, 1.9410682,\n",
       "        1.9472398],\n",
       "       [2.323841 , 2.1166172, 2.2478771, ..., 1.7797318, 1.93668  ,\n",
       "        2.0286064],\n",
       "       [2.1776063, 2.1574183, 2.2021227, ..., 1.9449124, 1.8768766,\n",
       "        1.8192736]], dtype=float32)"
      ]
     },
     "execution_count": 8,
     "metadata": {},
     "output_type": "execute_result"
    }
   ],
   "source": [
    "# compute the angle matrix for a trajectory\n",
    "batched_angle_matrix(coords, indices)"
   ]
  },
  {
   "cell_type": "code",
   "execution_count": 9,
   "id": "a146833c-950c-4b29-9860-ad49b9cfcee2",
   "metadata": {},
   "outputs": [
    {
     "name": "stdout",
     "output_type": "stream",
     "text": [
      "NaN in jac: False\n",
      "jac.shape: (151, 73, 3)\n"
     ]
    }
   ],
   "source": [
    "# derivatives work\n",
    "try:\n",
    "    jac = jax.jacrev(angle_matrix)(coords[0], indices)\n",
    "    print('NaN in jac:', jnp.any(jnp.isnan(jac)))\n",
    "    print('jac.shape:', jac.shape)\n",
    "except Exception:\n",
    "    print('not reverse-mode differentiable')"
   ]
  },
  {
   "cell_type": "code",
   "execution_count": 10,
   "id": "366542f5-1245-46fc-9366-c07a01ecea0a",
   "metadata": {},
   "outputs": [
    {
     "name": "stdout",
     "output_type": "stream",
     "text": [
      "NaN in jac: False\n",
      "jac.shape: (151, 73, 3)\n"
     ]
    }
   ],
   "source": [
    "# derivatives work\n",
    "try:\n",
    "    jac = jax.jacfwd(angle_matrix)(coords[0], indices)\n",
    "    print('NaN in jac:', jnp.any(jnp.isnan(jac)))\n",
    "    print('jac.shape:', jac.shape)\n",
    "except Exception:\n",
    "    print('not forward-mode differentiable')"
   ]
  },
  {
   "cell_type": "code",
   "execution_count": null,
   "id": "7b305b2e-89bf-4ecd-882d-d0ad8fb14338",
   "metadata": {},
   "outputs": [],
   "source": []
  }
 ],
 "metadata": {
  "kernelspec": {
   "display_name": "Python 3 (ipykernel)",
   "language": "python",
   "name": "python3"
  },
  "language_info": {
   "codemirror_mode": {
    "name": "ipython",
    "version": 3
   },
   "file_extension": ".py",
   "mimetype": "text/x-python",
   "name": "python",
   "nbconvert_exporter": "python",
   "pygments_lexer": "ipython3",
   "version": "3.10.12"
  }
 },
 "nbformat": 4,
 "nbformat_minor": 5
}
