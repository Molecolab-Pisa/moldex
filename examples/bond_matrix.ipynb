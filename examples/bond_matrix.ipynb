{
 "cells": [
  {
   "cell_type": "code",
   "execution_count": 1,
   "id": "8006a8c0-8ed1-4b70-9d55-8f86bbd8dcaa",
   "metadata": {},
   "outputs": [],
   "source": [
    "%load_ext autoreload\n",
    "%autoreload 2"
   ]
  },
  {
   "cell_type": "code",
   "execution_count": 21,
   "id": "06407481-3d18-48b6-ad36-c8ef537cafaf",
   "metadata": {},
   "outputs": [],
   "source": [
    "import jax\n",
    "import jax.numpy as jnp\n",
    "\n",
    "from moldex.descriptors import bond_matrix, batched_bond_matrix\n",
    "from moldex.mdtraj import bond_indices_from_traj\n",
    "\n",
    "# we use mdtraj here to load the trajectory, everything else is ok\n",
    "# note that pytraj is stuck at python 3.7, while JAX has dropped\n",
    "# support for python 3.7, so they are not compatible anymore\n",
    "import mdtraj as md"
   ]
  },
  {
   "cell_type": "code",
   "execution_count": 22,
   "id": "9a1870f6-b950-478d-8bb6-c3f1eb501595",
   "metadata": {},
   "outputs": [],
   "source": [
    "traj = md.load('data/cla.nc', top='data/cla.prmtop')"
   ]
  },
  {
   "cell_type": "code",
   "execution_count": 23,
   "id": "986d88e5-ba90-4a38-bde7-72263f82d7b1",
   "metadata": {},
   "outputs": [
    {
     "name": "stdout",
     "output_type": "stream",
     "text": [
      "(81, 2)\n"
     ]
    }
   ],
   "source": [
    "# utility function that extracts the list of bonds from a mdtraj trajectory\n",
    "indices = get_bond_indices_from_traj(traj)\n",
    "\n",
    "print(indices.shape)"
   ]
  },
  {
   "cell_type": "code",
   "execution_count": 24,
   "id": "40c27dec-38cb-442d-8ba1-ee17aa22d9d5",
   "metadata": {},
   "outputs": [
    {
     "name": "stdout",
     "output_type": "stream",
     "text": [
      "(240, 73, 3)\n"
     ]
    }
   ],
   "source": [
    "# get the coordinates\n",
    "coords = jnp.array(traj.xyz)\n",
    "\n",
    "print(coords.shape)"
   ]
  },
  {
   "cell_type": "code",
   "execution_count": 25,
   "id": "9ff5934e-f71b-455b-ac6b-6d2632054313",
   "metadata": {},
   "outputs": [
    {
     "data": {
      "text/plain": [
       "Array([0.10900015, 0.10899981, 0.10900021, 0.10900003, 0.10899995,\n",
       "       0.10900068, 0.10899989, 0.1090004 , 0.10900027, 0.1090014 ,\n",
       "       0.10900011, 0.10900082, 0.10899982, 0.10899989, 0.10900044,\n",
       "       0.11039988, 0.1104002 , 0.1090006 , 0.10899998, 0.10900036,\n",
       "       0.10900018, 0.10900051, 0.10900033, 0.10899986, 0.10899995,\n",
       "       0.10900011, 0.14886034, 0.12289649, 0.13735062, 0.15188728,\n",
       "       0.12393261, 0.15120994, 0.14361952, 0.14191373, 0.14137028,\n",
       "       0.14781298, 0.15006383, 0.14149144, 0.13367821, 0.1587133 ,\n",
       "       0.14613053, 0.14780726, 0.14026225, 0.14801192, 0.14149864,\n",
       "       0.13324559, 0.13862422, 0.13501924, 0.14573999, 0.14895985,\n",
       "       0.14047064, 0.15829708, 0.14376213, 0.14000341, 0.14093228,\n",
       "       0.1472915 , 0.15638068, 0.15358779, 0.10744502, 0.15916637,\n",
       "       0.15639038, 0.10956812, 0.15405755, 0.1349374 , 0.13963142,\n",
       "       0.13848332, 0.14168221, 0.10690728, 0.13859981, 0.14117765,\n",
       "       0.10654826, 0.13879672, 0.14105293, 0.11009594, 0.13812841,\n",
       "       0.13625486, 0.15660852, 0.20908187, 0.21076956, 0.1990509 ,\n",
       "       0.21957746], dtype=float32)"
      ]
     },
     "execution_count": 25,
     "metadata": {},
     "output_type": "execute_result"
    }
   ],
   "source": [
    "# compute the bond matrix for a single frame\n",
    "bond_matrix(coords[0], indices)"
   ]
  },
  {
   "cell_type": "code",
   "execution_count": 26,
   "id": "a040889b-609d-4f42-a261-02037f3ca2e0",
   "metadata": {},
   "outputs": [
    {
     "data": {
      "text/plain": [
       "Array([[0.10900015, 0.10899981, 0.10900021, ..., 0.21076956, 0.1990509 ,\n",
       "        0.21957746],\n",
       "       [0.10899916, 0.10900006, 0.109001  , ..., 0.20631197, 0.20854744,\n",
       "        0.21769354],\n",
       "       [0.10900056, 0.1090004 , 0.1089996 , ..., 0.21728213, 0.19878533,\n",
       "        0.21428753],\n",
       "       ...,\n",
       "       [0.1090008 , 0.10899953, 0.10899998, ..., 0.21849117, 0.20739482,\n",
       "        0.21196984],\n",
       "       [0.10900059, 0.10900071, 0.10899992, ..., 0.20792529, 0.20570794,\n",
       "        0.21816477],\n",
       "       [0.10900042, 0.10899971, 0.10899958, ..., 0.22068137, 0.1991147 ,\n",
       "        0.20863731]], dtype=float32)"
      ]
     },
     "execution_count": 26,
     "metadata": {},
     "output_type": "execute_result"
    }
   ],
   "source": [
    "# compute the bond matrix for a trajectory\n",
    "batched_bond_matrix(coords, indices)"
   ]
  },
  {
   "cell_type": "code",
   "execution_count": 27,
   "id": "072825a0-1f6f-4834-b1c6-fa7bba341a2c",
   "metadata": {},
   "outputs": [
    {
     "name": "stdout",
     "output_type": "stream",
     "text": [
      "NaN in jac: False\n",
      "jac.shape: (81, 73, 3)\n"
     ]
    }
   ],
   "source": [
    "# derivatives work\n",
    "try:\n",
    "    jac = jax.jacrev(bond_matrix)(coords[0], indices)\n",
    "    print('NaN in jac:', jnp.any(jnp.isnan(jac)))\n",
    "    print('jac.shape:', jac.shape)\n",
    "except Exception:\n",
    "    print('not reverse-mode differentiable')"
   ]
  },
  {
   "cell_type": "code",
   "execution_count": 28,
   "id": "2e95a945-70fa-4b86-b18d-0d914710a230",
   "metadata": {},
   "outputs": [
    {
     "name": "stdout",
     "output_type": "stream",
     "text": [
      "NaN in jac: False\n",
      "jac.shape: (81, 73, 3)\n"
     ]
    }
   ],
   "source": [
    "# derivatives work\n",
    "try:\n",
    "    jac = jax.jacfwd(bond_matrix)(coords[0], indices)\n",
    "    print('NaN in jac:', jnp.any(jnp.isnan(jac)))\n",
    "    print('jac.shape:', jac.shape)\n",
    "except Exception:\n",
    "    print('not forward-mode differentiable')"
   ]
  },
  {
   "cell_type": "code",
   "execution_count": null,
   "id": "0f446c11-1433-4822-9c04-25967a657039",
   "metadata": {},
   "outputs": [],
   "source": []
  }
 ],
 "metadata": {
  "kernelspec": {
   "display_name": "Python 3 (ipykernel)",
   "language": "python",
   "name": "python3"
  },
  "language_info": {
   "codemirror_mode": {
    "name": "ipython",
    "version": 3
   },
   "file_extension": ".py",
   "mimetype": "text/x-python",
   "name": "python",
   "nbconvert_exporter": "python",
   "pygments_lexer": "ipython3",
   "version": "3.10.10"
  }
 },
 "nbformat": 4,
 "nbformat_minor": 5
}
